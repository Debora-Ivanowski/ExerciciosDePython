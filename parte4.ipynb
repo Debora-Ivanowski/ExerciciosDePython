{
 "cells": [
  {
   "cell_type": "code",
   "execution_count": null,
   "metadata": {},
   "outputs": [],
   "source": [
    "'''\n",
    "Escreva um programa que faça o computador \"pensar\" em um número inteiro entre 0 e 5\n",
    "e peça para o usuário tentar descobrir qual foi o número escolhido pelo computador.\n",
    "\n",
    "O programa deverá escrever na tela se o usuário venceu ou perdeu.\n",
    "\n",
    "'''"
   ]
  },
  {
   "cell_type": "code",
   "execution_count": null,
   "metadata": {},
   "outputs": [],
   "source": [
    "''' Escreva um programa que leia a velocidade de um carro\n",
    "Se ele ultrapassar 80km/h, mostre uma mensagem dizendo que ele foi multado\n",
    "A multa vai custar R$7,00 por cada Km acima do limite."
   ]
  },
  {
   "cell_type": "code",
   "execution_count": null,
   "metadata": {},
   "outputs": [],
   "source": [
    "'''\n",
    "Crie um programa que leia um número inteiro e mostre na tela se ele é PAR ou ÍMPAR."
   ]
  },
  {
   "cell_type": "code",
   "execution_count": null,
   "metadata": {},
   "outputs": [],
   "source": [
    "'''\n",
    "Desenvolva um programa que pergunte a distância de uma viagem em Km.\n",
    "Calcule o preço da passagem, cobrando R$ 0,50 por Km para viagens de até 200km\n",
    "e R$ 0,45 para viagens mais longas"
   ]
  },
  {
   "cell_type": "code",
   "execution_count": null,
   "metadata": {},
   "outputs": [],
   "source": [
    "# from datetime import date\n",
    "'''\n",
    "Faça um programa que leia um ano qualquer e mostre se ele é BISSEXTO"
   ]
  },
  {
   "cell_type": "code",
   "execution_count": null,
   "metadata": {},
   "outputs": [],
   "source": [
    "'''\n",
    "Faça um programa que leia três números e mostre qual é o maior e qual é o menor"
   ]
  },
  {
   "cell_type": "code",
   "execution_count": null,
   "metadata": {},
   "outputs": [],
   "source": [
    "'''\n",
    "Escreva um programa que pergunte o salário de um funcionário e calcule o valor do seu aumento\n",
    "\n",
    "Para salários superiores a R$ 1.250,00, calcule um aumento de 10%\n",
    "\n",
    "Para os inferiores ou iguais, o aumento é de R$ 15%.\n",
    "'''"
   ]
  },
  {
   "cell_type": "code",
   "execution_count": null,
   "metadata": {},
   "outputs": [],
   "source": [
    "# Desenvolva um programa que leia o comprimento de três retas\n",
    "# e diga ao usuário se elas podem ou não formar um triângulo\n",
    "\n",
    "# Inclusive posso dizer qual tipo de triângulo pode ser formado.\n",
    "# Não deve ser difícil isso em Python"
   ]
  },
  {
   "cell_type": "code",
   "execution_count": null,
   "metadata": {},
   "outputs": [],
   "source": []
  },
  {
   "cell_type": "code",
   "execution_count": null,
   "metadata": {},
   "outputs": [],
   "source": []
  },
  {
   "cell_type": "code",
   "execution_count": null,
   "metadata": {},
   "outputs": [],
   "source": []
  }
 ],
 "metadata": {
  "language_info": {
   "name": "python"
  }
 },
 "nbformat": 4,
 "nbformat_minor": 2
}
