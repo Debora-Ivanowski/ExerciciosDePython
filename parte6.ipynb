{
 "cells": [
  {
   "cell_type": "code",
   "execution_count": null,
   "metadata": {},
   "outputs": [],
   "source": [
    "from time import sleep\n",
    "# Faça um programa que mostre na tela\n",
    "# Uma contagem regressiva para o estouro e fogos de artifício,\n",
    "# Indo de 10 até 0, com uma pausa de 1 segundo entre eles.\n",
    "# USANDO LOOP AGORA\n"
   ]
  },
  {
   "cell_type": "code",
   "execution_count": null,
   "metadata": {},
   "outputs": [],
   "source": [
    "# Crie um programa que mostre na tela todos os números pares\n",
    "# que estão no intervalo entre 1 e 50\n"
   ]
  },
  {
   "cell_type": "code",
   "execution_count": null,
   "metadata": {},
   "outputs": [],
   "source": [
    "# Faça um programa que calcule a soma entre todos os números impares\n",
    "# que são múltiplos de três (3) e que se encontram no intervalo de 1 até 500.\n"
   ]
  },
  {
   "cell_type": "code",
   "execution_count": null,
   "metadata": {},
   "outputs": [],
   "source": [
    "''' Refaça o desafio 009, mostrando a tabuada de um número\n",
    "que o usuário escolher, só que agora utilizando um laço for'''"
   ]
  },
  {
   "cell_type": "code",
   "execution_count": null,
   "metadata": {},
   "outputs": [],
   "source": [
    "'''\n",
    "Desenvolva um programa que leia seis números inteiros\n",
    "e mostre a soma apenas daqueles que forem pares\n",
    "Se o valor digitado for ímpar, desconsidere-o.'''"
   ]
  },
  {
   "cell_type": "code",
   "execution_count": null,
   "metadata": {},
   "outputs": [],
   "source": [
    "''' Desenvolva um programa que leia o primeiro termo e a razão\n",
    "de uma PA (Progressão Aritmética).\n",
    "No final, mostre os 10 primeiros termos dessa progressão.'''"
   ]
  },
  {
   "cell_type": "code",
   "execution_count": null,
   "metadata": {},
   "outputs": [],
   "source": [
    "''' Faça um programa que leia um número inteiro e diga se ele é ou não\n",
    "um número primo'''"
   ]
  },
  {
   "cell_type": "code",
   "execution_count": null,
   "metadata": {},
   "outputs": [],
   "source": [
    "''' Crie um programa que leia uma frase qualquer\n",
    "E diga se ela é um palíndromo, desconsiderando os espaços'''\n",
    "# Após a sopa\n",
    "# A sacada da casa\n",
    "# A torre da derrota\n",
    "# o lobo ama o bolo\n",
    "# Anotaram a data da maratona\n"
   ]
  },
  {
   "cell_type": "code",
   "execution_count": null,
   "metadata": {},
   "outputs": [],
   "source": [
    "from datetime import date\n",
    "''' Crie um programa que leia o ano de nascimento de sete pessoas\n",
    "No final, mostre quantas pessoas ainda não atingiram a maioridade\n",
    "e quantas já são maiores'''"
   ]
  },
  {
   "cell_type": "code",
   "execution_count": null,
   "metadata": {},
   "outputs": [],
   "source": [
    "''' Faça um programa que leia o peso de cinco pessoas\n",
    "No final, mostre qual foi o maior e o menor peso lidos'''\n",
    "\n",
    "larger = 0\n",
    "smaller = 0"
   ]
  },
  {
   "cell_type": "code",
   "execution_count": null,
   "metadata": {},
   "outputs": [],
   "source": [
    "''' Desenvolva um programa que leia nome, idade e sexo de 4 pessoas\n",
    "No final do programa, mostre:\n",
    " - A média de idade do grupo\n",
    " - Qual é o nome do homem mais velho\n",
    " - Quantas mulheres têm menos de 20 anos\n",
    " '''"
   ]
  },
  {
   "cell_type": "code",
   "execution_count": null,
   "metadata": {},
   "outputs": [],
   "source": []
  },
  {
   "cell_type": "code",
   "execution_count": null,
   "metadata": {},
   "outputs": [],
   "source": []
  }
 ],
 "metadata": {
  "language_info": {
   "name": "python"
  }
 },
 "nbformat": 4,
 "nbformat_minor": 2
}
