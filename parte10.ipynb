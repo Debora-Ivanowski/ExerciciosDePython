{
 "cells": [
  {
   "cell_type": "code",
   "execution_count": null,
   "metadata": {},
   "outputs": [],
   "source": [
    "'''\n",
    "Faça um programa que leia 5 valores números e guarde-os em uma lista.\n",
    "No final, mostre qual foi o maior e o menor valor digitados\n",
    "e as suas respectivas posições na lista.\n",
    "'''"
   ]
  },
  {
   "cell_type": "code",
   "execution_count": null,
   "metadata": {},
   "outputs": [],
   "source": [
    "'''\n",
    "Crie um programa onde o usuário possa digitar vários valores numéricos\n",
    "e cadastre-os em uma lista.\n",
    "\n",
    "Caso o número já exista lá dentro, ele não será adicionado.\n",
    "No final, serão exibidos todos os valores únicos digitados, em ordem crescente.\n",
    "'''"
   ]
  },
  {
   "cell_type": "code",
   "execution_count": null,
   "metadata": {},
   "outputs": [],
   "source": [
    "'''\n",
    "Crie um programa onde o usuário possa digitar cinco valores numéricos\n",
    "e cadastre-os em uma lista, já na posição correta de inserção\n",
    "(sem usar o sort()).\n",
    "\n",
    "No final, mostre a lista ordenada na tela.\n",
    "'''"
   ]
  },
  {
   "cell_type": "code",
   "execution_count": null,
   "metadata": {},
   "outputs": [],
   "source": [
    "# Versão do Gustavo Guanabara:\n",
    "\n",
    "lista = []\n",
    "for i in range(0, 5):\n",
    "    n = int(input(\"Digite um número: \\n\"))\n",
    "    if i  == 0 or n > lista[-1]:\n",
    "        lista.append(n)\n",
    "    else:\n",
    "        pos = 0\n",
    "        while pos < len(lista):\n",
    "            if n <= lista[pos]:\n",
    "                lista.insert(pos, n)\n",
    "                break\n",
    "            pos += 1\n",
    "print(lista)"
   ]
  },
  {
   "cell_type": "code",
   "execution_count": null,
   "metadata": {},
   "outputs": [],
   "source": [
    "'''\n",
    "Crie um programa onde o usuário possa digitar cinco valores numéricos\n",
    "e cadastre-os em uma lista, já na posição correta de inserção\n",
    "(sem usar o sort()).\n",
    "\n",
    "No final, mostre a lista ordenada na tela.\n",
    "'''"
   ]
  },
  {
   "cell_type": "code",
   "execution_count": null,
   "metadata": {},
   "outputs": [],
   "source": [
    "'''\n",
    "Crie um programa que vai ler vários números e colocá-los em uma lista\n",
    "Depois disso, mostre:\n",
    "a) quantos números foram digitados.\n",
    "b) a lista de valores, ordenada de forma decrescente\n",
    "c) se o valor 5 foi digitado e está ou não na lista.\n",
    "'''"
   ]
  },
  {
   "cell_type": "code",
   "execution_count": null,
   "metadata": {},
   "outputs": [],
   "source": [
    "'''\n",
    "Crie um programa que vai ler vários números e colocar em uma lista.\n",
    "Depois disso, crie duas listas extras que vão conter apenas os valores pares\n",
    "e os valores ímpares digitados, respectivamente.\n",
    "\n",
    "Ao final, mostre o conteúdo das três listas geradas.\n",
    "'''"
   ]
  },
  {
   "cell_type": "code",
   "execution_count": null,
   "metadata": {},
   "outputs": [],
   "source": [
    "'''\n",
    "Crie um programa onde o usuário digite uma expressão qualquer\n",
    "que use parênteses.\n",
    "Seu aplicativo deverá analisar se a expressão passada \n",
    "está com os parênteses abertos e fechados na ordem correta.\n",
    "'''"
   ]
  }
 ],
 "metadata": {
  "language_info": {
   "name": "python"
  }
 },
 "nbformat": 4,
 "nbformat_minor": 2
}
