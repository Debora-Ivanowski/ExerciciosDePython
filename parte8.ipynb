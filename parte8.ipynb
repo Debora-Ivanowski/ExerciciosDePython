{
 "cells": [
  {
   "cell_type": "code",
   "execution_count": null,
   "metadata": {},
   "outputs": [],
   "source": [
    "''' Crie um programa que leia vários números inteiros pelo teclado\n",
    "O programa só vai parar quando o usuário digitar 999,\n",
    "que é a condição de parada (flag).\n",
    "No final, mostre quantos números foram digitados\n",
    "e qual foi a acc entre eles (desconsiderando o flag)\n",
    "'''"
   ]
  },
  {
   "cell_type": "code",
   "execution_count": null,
   "metadata": {},
   "outputs": [],
   "source": [
    "''' Faça um programa que mostre a tabuada de vários números,\n",
    "um de cada vez, para cada valor digitado pelo usuário.\n",
    "O programa será interrompido quando o número solicitado for negativo\n",
    "'''"
   ]
  },
  {
   "cell_type": "code",
   "execution_count": null,
   "metadata": {},
   "outputs": [],
   "source": [
    "''' Faça um programa que jogue par ou ímpar com o computador.\n",
    "O jogo só será interrompido quando o jogador perder,\n",
    "mostrando o total de vitórias consecutivas que ele conquistou, \n",
    "no final do jogo.'''"
   ]
  },
  {
   "cell_type": "code",
   "execution_count": null,
   "metadata": {},
   "outputs": [],
   "source": [
    "''' Crie um programa que leia a idade e o sexo de várias pessoas.\n",
    "A cada pessoa cadastrada, o programa deverá perguntar\n",
    "se o usuário quer ou não continuar.\n",
    "No final, mostra:\n",
    "a) quantas pessoas têm mais de 18 anos\n",
    "b) quantos homens foram cadastrados\n",
    "c) quantas mulheres têm menos de 20 anos'''"
   ]
  },
  {
   "cell_type": "code",
   "execution_count": null,
   "metadata": {},
   "outputs": [],
   "source": [
    "'''Crie um programa que leia o nome e o preço de vários produtos.\n",
    "O programa deverá perguntar se o usuário vai continuar.\n",
    "No final, mostre:\n",
    "a) qual é o total gasto na compra\n",
    "b) quantos produtos custam mais de R$ 1000\n",
    "c) qual é o nome do produto mais barato\n",
    "'''"
   ]
  },
  {
   "cell_type": "code",
   "execution_count": null,
   "metadata": {},
   "outputs": [],
   "source": [
    "'''\n",
    "Crie um programa que simule o funcionamento de um caixa eletrônico.\n",
    "No início, pergunte ao usuário qual será o valor a ser sacado(inteiro)\n",
    "e o programa vai informar quantas cédulas de cada valor serão entregues.\n",
    "\n",
    "Obs.: Considere que o caixa possui cédulas de R$50, R$20, R$10 e R$1.\n",
    "num = int(input(\"Que valor você quer sacar? \\n\"))\n",
    "cedulas = [50, 20, 10, 1]\n",
    "'''\n"
   ]
  },
  {
   "cell_type": "code",
   "execution_count": null,
   "metadata": {},
   "outputs": [],
   "source": [
    "from datetime import datetime\n",
    "from time import sleep\n",
    "\n",
    "'''\n",
    "Crie um programa que simule o funcionamento de um caixa eletrônico.\n",
    "No início, pergunte ao usuário qual será o valor a ser sacado (inteiro)\n",
    "e o programa vai informar quantas cédulas de cada valor serão entregues.\n",
    "\n",
    "Obs.: Considere que o caixa possui cédulas de R$50, R$20, R$10 e R$1.\n",
    "'''"
   ]
  }
 ],
 "metadata": {
  "language_info": {
   "name": "python"
  }
 },
 "nbformat": 4,
 "nbformat_minor": 2
}
