{
 "cells": [
  {
   "cell_type": "code",
   "execution_count": 5,
   "metadata": {},
   "outputs": [
    {
     "name": "stdout",
     "output_type": "stream",
     "text": [
      "5\n",
      "4\n",
      "3\n",
      "2\n",
      "1\n",
      "0\n",
      "FELIZ ANO NOVO!\n"
     ]
    }
   ],
   "source": [
    "# Faça um programa que mostre na tela\n",
    "# Uma contagem regressiva para o estouro e fogos de artifício,\n",
    "# Indo de 5 até 0, com uma pausa de 1 segundo entre eles.\n",
    "\n",
    "from time import sleep\n",
    "\n",
    "for i in range(5, -1, -1):\n",
    "    print(i)\n",
    "    sleep(1)\n",
    "print(\"FELIZ ANO NOVO!\")\n",
    "\n",
    "# i é o contador, como se fosse a variavel armazenada, mas que muda a cada iteração\n",
    "#sem o sleep, ele mostra a sequencia decrescente de uma vez só, sem o intervalinho.\n",
    "'''range(5, -1, -1):\n",
    "5: Valor inicial.\n",
    "-1: Valor de parada (o loop para antes de alcançar este valor).\n",
    "-1: Passo negativo, o que indica que a sequência deve diminuir a cada iteração.'''\n"
   ]
  },
  {
   "cell_type": "code",
   "execution_count": 10,
   "metadata": {},
   "outputs": [
    {
     "name": "stdout",
     "output_type": "stream",
     "text": [
      "2\n",
      "4\n",
      "6\n",
      "8\n",
      "10\n",
      "12\n",
      "14\n",
      "16\n",
      "18\n",
      "20\n",
      "22\n",
      "24\n",
      "26\n",
      "28\n",
      "30\n",
      "32\n",
      "34\n",
      "36\n",
      "38\n",
      "40\n",
      "42\n",
      "44\n",
      "46\n",
      "48\n",
      "50\n"
     ]
    }
   ],
   "source": [
    "# Crie um programa que mostre na tela todos os números pares\n",
    "# que estão no intervalo entre 1 e 50\n",
    "\n",
    "for i in range(2,52,2):\n",
    "    print(i)\n"
   ]
  },
  {
   "cell_type": "code",
   "execution_count": 11,
   "metadata": {},
   "outputs": [
    {
     "name": "stdout",
     "output_type": "stream",
     "text": [
      "A soma dos múltiplos é: 20667.\n"
     ]
    }
   ],
   "source": [
    "# Faça um programa que calcule a soma entre todos os números impares\n",
    "# que são múltiplos de três (3) e que se encontram no intervalo de 1 até 500.\n",
    "s = 0\n",
    "for num in range(1,501):\n",
    "    if num % 2 != 0:\n",
    "        if num % 3 == 0:\n",
    "            s += num  # soma = soma + num\n",
    "print(\"A soma dos múltiplos é: {}.\".format(s))\n",
    "\n",
    "#sei que o loop pega até a soma porque tem a indentação\n",
    "\n",
    "\n"
   ]
  },
  {
   "cell_type": "code",
   "execution_count": 12,
   "metadata": {},
   "outputs": [
    {
     "name": "stdout",
     "output_type": "stream",
     "text": [
      "100 x 1 = 100\n",
      "100 x 2 = 200\n",
      "100 x 3 = 300\n",
      "100 x 4 = 400\n",
      "100 x 5 = 500\n",
      "100 x 6 = 600\n",
      "100 x 7 = 700\n",
      "100 x 8 = 800\n",
      "100 x 9 = 900\n",
      "100 x 10 = 1000\n"
     ]
    }
   ],
   "source": [
    "# Refaça o desafio da tabuada de um número que o usuário escolher, só que agora utilizando um laço for\n",
    "\n",
    "num = int(input(\"Digite um número: \\n\"))\n",
    "for i in range(1, 11):\n",
    "    print(\"{} x {} = {}\".format(num, i, (num * i)))"
   ]
  },
  {
   "cell_type": "code",
   "execution_count": 6,
   "metadata": {},
   "outputs": [
    {
     "name": "stdout",
     "output_type": "stream",
     "text": [
      "Os números digitados foram: [8]\n",
      "A soma dos números pares é: 8\n"
     ]
    },
    {
     "data": {
      "text/plain": [
       "'\\ns = 0\\nfor i in range(0, 6):\\n    num = int(input(\"Digite um número: \\n\"))\\n    if num % 2 == 0:\\n        s += num\\nprint(\"Somas: {}.\".format(s))'"
      ]
     },
     "execution_count": 6,
     "metadata": {},
     "output_type": "execute_result"
    }
   ],
   "source": [
    "# Desenvolva um programa que leia seis números inteiros e mostre a soma apenas daqueles que forem pares Se o valor digitado for ímpar, desconsidere-o.\n",
    "\n",
    "numero = []\n",
    "\n",
    "for _ in range(6): \n",
    "    num = int(input(\"Digite um número\"))\n",
    "#adiciona a lista\n",
    "numero.append(num)\n",
    "\n",
    "# Inicializa a variável para a soma dos números pares\n",
    "soma_pares = 0\n",
    "\n",
    "# Itera sobre a lista de números para somar apenas os pares\n",
    "for num in numero:\n",
    "    if num % 2 == 0:\n",
    "        soma_pares += num\n",
    "\n",
    "# Exibe a lista de números digitados e a soma dos números pares\n",
    "print(\"Os números digitados foram:\", numero)\n",
    "print(\"A soma dos números pares é:\", soma_pares)\n",
    "'''\n",
    "s = 0\n",
    "for i in range(0, 6):\n",
    "    num = int(input(\"Digite um número: \\n\"))\n",
    "    if num % 2 == 0:\n",
    "        s += num\n",
    "print(\"Somas: {}.\".format(s))'''"
   ]
  },
  {
   "cell_type": "code",
   "execution_count": 12,
   "metadata": {},
   "outputs": [
    {
     "name": "stdout",
     "output_type": "stream",
     "text": [
      "1,3,5,7,9,11,13,15,17,19,\n",
      "Fim.\n"
     ]
    }
   ],
   "source": [
    "# Desenvolva um programa que leia o primeiro termo e a razão de uma PA (Progressão Aritmética). No final, mostre os 10 primeiros termos dessa progressão.\n",
    "\n",
    "prim = int(input(\"Primeiro termo: \\n\"))\n",
    "raz = int(input(\"Digite a razão da PA: \\n\"))\n",
    "onz = prim + (11 - 1) * raz  # Fórmula do enésimo termo de uma PA.\n",
    "for c in range(prim, onz, raz):\n",
    "    print(\"{}\".format(c), end=\",\")\n",
    "print(\"\\nFim.\")"
   ]
  },
  {
   "cell_type": "code",
   "execution_count": null,
   "metadata": {},
   "outputs": [],
   "source": [
    "''' Faça um programa que leia um número inteiro e diga se ele é ou não\n",
    "um número primo'''\n"
   ]
  },
  {
   "cell_type": "code",
   "execution_count": 14,
   "metadata": {},
   "outputs": [
    {
     "name": "stdout",
     "output_type": "stream",
     "text": [
      "A frase é um palíndromo.\n"
     ]
    },
    {
     "data": {
      "text/plain": [
       "'frase = str(input(\"Palíndromo: \\n\")).upper()\\nfrase = \"\".join(frase.split(\" \"))\\nAqui ele dividiu a frase nos espaços, e aí ele juntou tudo sem espaços no join, veja que ele usa \"\" sem espaços\\n\\nprint(\"A palavra {} ao contrário é {} e \".format(frase, frase[::-1]), end=\"\")\\nif frase == frase[::-1]:\\n    print(\"é um palíndromo.\".format(frase))\\nelse:\\n    print(\"não é um palíndromo.\".format(frase))'"
      ]
     },
     "execution_count": 14,
     "metadata": {},
     "output_type": "execute_result"
    }
   ],
   "source": [
    "''' Crie um programa que leia uma frase qualquer\n",
    "E diga se ela é um palíndromo, desconsiderando os espaços'''\n",
    "# Após a sopa\n",
    "# A sacada da casa\n",
    "# A torre da derrota\n",
    "# o lobo ama o bolo\n",
    "# Anotaram a data da maratona\n",
    "\n",
    "def eh_palindromo(frase):\n",
    "    # Remove os espaços da frase, \" \" tem espaço, \"\" string vazia\n",
    "    frase_sem_espacos = frase.replace(\" \", \"\")\n",
    "    \n",
    "    # Converte a frase para minúsculas para comparação insensível a maiúsculas\n",
    "    frase_sem_espacos = frase_sem_espacos.lower()\n",
    "    \n",
    "    # Verifica se a frase é igual à sua inversa\n",
    "    return frase_sem_espacos == frase_sem_espacos[::-1]\n",
    "\n",
    "    #inicio: O índice inicial da subsequência (inclusive). Se omitido, começa do início da sequência. #fim: O índice final da subsequência (exclusive). Se omitido, vai até o final da sequência. #passo: O intervalo entre os índices na subsequência. Se omitido, o padrão é 1. o -1 percorre de trás para frente\n",
    "\n",
    "# Leitura da frase do usuário\n",
    "frase = input(\"Digite uma frase: \")\n",
    "\n",
    "# Verifica se é um palíndromo e armazena o resultado na variável `resultado`\n",
    "resultado = eh_palindromo(frase)\n",
    "\n",
    "# Exibe o resultado com base no valor retornado pela função\n",
    "if resultado:\n",
    "    print(\"A frase é um palíndromo.\")\n",
    "else:\n",
    "    print(\"A frase não é um palíndromo.\")\n",
    "\n",
    "#se true vai o primeiro resultado\n",
    "\n",
    "'''frase = str(input(\"Palíndromo: \\n\")).upper()\n",
    "frase = \"\".join(frase.split(\" \"))\n",
    "Aqui ele dividiu a frase nos espaços, e aí ele juntou tudo sem espaços no join, veja que ele usa \"\" sem espaços\n",
    "\n",
    "print(\"A palavra {} ao contrário é {} e \".format(frase, frase[::-1]), end=\"\")\n",
    "Aqui o end está substituindo o padrão (nova linha) por uma string vazia. Isso significa que a próxima impressão continuará na mesma linha.\n",
    "\n",
    "if frase == frase[::-1]:\n",
    "    print(\"é um palíndromo.\".format(frase))\n",
    "else:\n",
    "    print(\"não é um palíndromo.\".format(frase))'''\n",
    "\n",
    "\n",
    "\n"
   ]
  },
  {
   "cell_type": "code",
   "execution_count": null,
   "metadata": {},
   "outputs": [],
   "source": [
    "from datetime import date\n",
    "''' Crie um programa que leia o ano de nascimento de sete pessoas\n",
    "No final, mostre quantas pessoas ainda não atingiram a maioridade\n",
    "e quantas já são maiores'''\n",
    "\n",
    "atual = date.today().year\n",
    "counter_young = 0\n",
    "counter_adult = 0\n",
    "for i in range(7):\n",
    "    num = int(input(\"Digite anos de nascimento: \\n\"))\n",
    "    if atual - num >= 21:\n",
    "        counter_adult += 1\n",
    "    elif atual - num < 21:\n",
    "        counter_young += 1\n",
    "print(\"Ao todo tivemos {} maiores e {} menores de idade.\".format(\n",
    "    counter_adult, counter_young))\n",
    "\n"
   ]
  },
  {
   "cell_type": "code",
   "execution_count": null,
   "metadata": {},
   "outputs": [],
   "source": [
    "''' Faça um programa que leia o peso de cinco pessoas\n",
    "No final, mostre qual foi o maior e o menor peso lidos'''\n",
    "\n",
    "larger = 0\n",
    "smaller = 0\n",
    "\n",
    "for i in range(1, 6):\n",
    "    weight = float(input(\"Digite um peso: \\n\"))\n",
    "    if i == 1:\n",
    "        larger = weight\n",
    "        smaller = weight\n",
    "'''if i == 1: Na primeira iteração (quando i é 1), o código assume que o peso digitado é o primeiro e, portanto, é tanto o maior quanto o menor peso encontrado até agora'''\n",
    "\n",
    "    else:\n",
    "        if weight > larger:\n",
    "            larger = weight\n",
    "        elif weight < smaller:\n",
    "            smaller = weight\n",
    "\n",
    "print(\"O maior peso é {}kg\".format(larger))\n",
    "print(\"O menor peso é {}kg.\".format(smaller))\n",
    "\n",
    "\n",
    "\n",
    "''' objetivo, repetir a linha de codigo\n",
    "for i in range(1, 6):\n",
    "    weight = float(input(\"Digite um peso: \\n\"))'''\n",
    "''' objetivo, criar lista de 1 a 6\n",
    "numbers = list(range(1, 7))\n",
    "print(numbers)'''"
   ]
  },
  {
   "cell_type": "code",
   "execution_count": 3,
   "metadata": {},
   "outputs": [
    {
     "name": "stdout",
     "output_type": "stream",
     "text": [
      "\n",
      "Pessoa 1:\n",
      "\n",
      "Pessoa 2:\n",
      "\n",
      "Pessoa 3:\n",
      "\n",
      "Pessoa 4:\n",
      "\n",
      "Resultados:\n",
      "A média de idade do grupo é 33.75 anos.\n",
      "O nome do homem mais velho é pau.\n",
      "Quantas mulheres têm menos de 20 anos: 1.\n"
     ]
    }
   ],
   "source": [
    "''' Desenvolva um programa que leia nome, idade e sexo de 4 pessoas\n",
    "No final do programa, mostre:\n",
    " - A média de idade do grupo\n",
    " - Qual é o nome do homem mais velho\n",
    " - Quantas mulheres têm menos de 20 anos '''\n",
    " \n",
    "# Inicializa variáveis\n",
    "total_idade = 0\n",
    "homem_mais_velho = None\n",
    "idade_homem_mais_velho = 0\n",
    "quantidade_mulheres_menos_20 = 0\n",
    "\n",
    "#none:ausencia de valor\n",
    "\n",
    "# Processa a entrada de dados para 4 pessoas\n",
    "for i in range(4):\n",
    "    print(f\"\\nPessoa {i + 1}:\")\n",
    "    nome = input(\"Digite o nome: \").strip()\n",
    "    idade = int(input(\"Digite a idade: \").strip())\n",
    "    sexo = input(\"Digite o sexo (M/F): \").strip().upper()\n",
    "\n",
    "    # Atualiza a soma das idades\n",
    "    total_idade += idade\n",
    "\n",
    "    # Verifica se é o homem mais velho\n",
    "    if sexo == 'M':\n",
    "        if idade > idade_homem_mais_velho:\n",
    "            idade_homem_mais_velho = idade\n",
    "            homem_mais_velho = nome\n",
    "\n",
    "    # Conta mulheres com menos de 20 anos\n",
    "    if sexo == 'F' and idade < 20:\n",
    "        quantidade_mulheres_menos_20 += 1\n",
    "\n",
    "# Calcula a média de idade\n",
    "media_idade = total_idade / 4\n",
    "\n",
    "# Exibe os resultados\n",
    "print(\"\\nResultados:\")\n",
    "print(f\"A média de idade do grupo é {media_idade:.2f} anos.\")\n",
    "print(f\"O nome do homem mais velho é {homem_mais_velho}.\")\n",
    "print(f\"Quantas mulheres têm menos de 20 anos: {quantidade_mulheres_menos_20}.\")\n",
    "\n",
    " # f-strings\n",
    " # message = f\"Name: {name}, Age: {age}\"\n",
    " # método format\n",
    " # message = \"Name: {}, Age: {}\".format(name, age)   "
   ]
  }
 ],
 "metadata": {
  "kernelspec": {
   "display_name": "Python 3",
   "language": "python",
   "name": "python3"
  },
  "language_info": {
   "codemirror_mode": {
    "name": "ipython",
    "version": 3
   },
   "file_extension": ".py",
   "mimetype": "text/x-python",
   "name": "python",
   "nbconvert_exporter": "python",
   "pygments_lexer": "ipython3",
   "version": "3.12.3"
  }
 },
 "nbformat": 4,
 "nbformat_minor": 2
}
