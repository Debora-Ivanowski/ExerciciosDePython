{
 "cells": [
  {
   "cell_type": "code",
   "execution_count": null,
   "metadata": {},
   "outputs": [],
   "source": [
    "'''\n",
    "Crie um programa que tenha uma tupla totalmente preenchida\n",
    "com uma contagem por extenso de zero até vinte\n",
    "\n",
    "Seu programa deverá ler um número pelo teclado\n",
    "(entre 0 e 20)\n",
    "e mostrá-lo por extenso'''"
   ]
  },
  {
   "cell_type": "code",
   "execution_count": null,
   "metadata": {},
   "outputs": [],
   "source": [
    "'''\n",
    "Crie uma tupla preenchida com os 20 primeiros colocados\n",
    "da Tabela do Campeonato Brasileiro,\n",
    "na ordem de colocação.\n",
    "Depois mostre:\n",
    "a) apenas os 5 primeiros colocados\n",
    "b) os últimos 4 colocados da tabela\n",
    "c) uma lista com os times em ordem alfabética\n",
    "d) em que posição na tabela está o time da Chapecoense\n",
    "'''\n"
   ]
  },
  {
   "cell_type": "code",
   "execution_count": null,
   "metadata": {},
   "outputs": [],
   "source": [
    "'''\n",
    "Crie um programa que vai gerar cinco números aleatórios \n",
    "e colocar em uma tupla.\n",
    "Depois disso, mostre a listagem de números gerados\n",
    "e também indice o menor e o maior valor que estão na tupla\n",
    "'''"
   ]
  },
  {
   "cell_type": "code",
   "execution_count": null,
   "metadata": {},
   "outputs": [],
   "source": [
    "'''\n",
    "Desenvolva um programa que leia quatro valores pelo teclado\n",
    "e guarde-os em uma tupla.\n",
    "No final, mostre:\n",
    "\n",
    "a) quantas vezes apareceu o valor 9\n",
    "b) em que posição foi digitado o primeiro valor 3\n",
    "b) quais foram os números pares\n",
    "'''"
   ]
  },
  {
   "cell_type": "code",
   "execution_count": null,
   "metadata": {},
   "outputs": [],
   "source": [
    "'''\n",
    "Crie um programa que tenha uma tupla única\n",
    "com nomes de produtos e seus respectivos precos,\n",
    "na sequência\n",
    "\n",
    "No final, mostre uma listagem de precos,\n",
    "organizando os dados em forma tabular\n",
    "'''\n"
   ]
  },
  {
   "cell_type": "code",
   "execution_count": null,
   "metadata": {},
   "outputs": [],
   "source": [
    "'''\n",
    "Crie um programa que tenha uma tupla com várias palavras\n",
    "(não usar acentos).\n",
    "Depois disso, você deve mostrar, para cada palavra,\n",
    "quais são as suas vogais\n",
    "'''"
   ]
  }
 ],
 "metadata": {
  "language_info": {
   "name": "python"
  }
 },
 "nbformat": 4,
 "nbformat_minor": 2
}
