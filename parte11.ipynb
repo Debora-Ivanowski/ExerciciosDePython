{
 "cells": [
  {
   "cell_type": "code",
   "execution_count": null,
   "metadata": {},
   "outputs": [],
   "source": [
    "'''\n",
    "Faça um programa que leia nome e peso de várias pessoas\n",
    "guardando tudo em uma lista.\n",
    "No final, mostre:\n",
    "\n",
    "a: quantas pessoas foram cadastradas.\n",
    "b: uma listagem com as pessoas mais pesadas\n",
    "c: uma listagem com as pessoas mais leves\n",
    "\n",
    "Obs.: Gerar uma lista com os mais leves e mais pesados\n",
    "Vai depender de analisar qual é o mais leve e o mais pesado.\n",
    "Se houver mais de um com esse peso, insere na lista.\n",
    "O mais normal é que a lista de mais pesados tenha apenas 1 pessoa,\n",
    "que é o motivo pelo qual a lista existe.\n",
    "\n",
    "'''"
   ]
  },
  {
   "cell_type": "code",
   "execution_count": null,
   "metadata": {},
   "outputs": [],
   "source": [
    "'''\n",
    "Crie um programa onde o usuário possa digitar\n",
    "sete valores numéricos\n",
    "e cadastre-os em uma lista única\n",
    "que mantenha separados os valores pares e ímpares.\n",
    "\n",
    "No final, mostre os valores pares e ímpares\n",
    "em ordem crescente.\n",
    "'''\n"
   ]
  },
  {
   "cell_type": "code",
   "execution_count": null,
   "metadata": {},
   "outputs": [],
   "source": [
    "'''\n",
    "Crie um programa que crie uma matriz 3.3\n",
    "e preencha com valores lidos pelo teclado.\n",
    "\n",
    "No final, mostre a matriz na tela com a formatação correta\n",
    "'''"
   ]
  },
  {
   "cell_type": "code",
   "execution_count": null,
   "metadata": {},
   "outputs": [],
   "source": [
    "'''\n",
    "Aprimore o desafio anterior, mostrando no final:\n",
    "\n",
    "a: a soma de todos os valores pares digitados\n",
    "b: a soma dos valores da terceira coluna\n",
    "c: o maior valor da segunda linha\n",
    "'''"
   ]
  },
  {
   "cell_type": "code",
   "execution_count": null,
   "metadata": {},
   "outputs": [],
   "source": [
    "'''\n",
    "Faça um programa que ajude um jogador da MEGA SENA a criar palpites.\n",
    "\n",
    "O programa vai perguntar quantos jogos serão gerados\n",
    "e vai sortear 6 números entre 1 e 60 para cada jogo,\n",
    "cadastrando tudo em uma lista composta.\n",
    "'''"
   ]
  },
  {
   "cell_type": "code",
   "execution_count": null,
   "metadata": {},
   "outputs": [],
   "source": [
    "\"\"\"\n",
    "Crie um programa que leia nome e duas notas de vários alunos\n",
    "e guarde tudo em uma lista composta.\n",
    "\n",
    "No final, mostre um boletim contendo a média de cada um\n",
    "e permita que o usuário possa mostrar as notas de cada aluno individualmente\n",
    "\n",
    "\"\"\"\n",
    "\n",
    "\n",
    "\"\"\"\n",
    "Cria um programa que lê nome e duas notas de vários alunos\n",
    "e guarda-os numa lista completa.\n",
    "\"\"\""
   ]
  }
 ],
 "metadata": {
  "language_info": {
   "name": "python"
  }
 },
 "nbformat": 4,
 "nbformat_minor": 2
}
