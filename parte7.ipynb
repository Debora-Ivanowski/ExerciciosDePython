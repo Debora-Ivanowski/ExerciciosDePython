{
 "cells": [
  {
   "cell_type": "code",
   "execution_count": null,
   "metadata": {},
   "outputs": [],
   "source": [
    "'''\n",
    "Faça um programa que leia o sexo de uma pessoa\n",
    "mas só aceite os valores \"M\" ou \"F\".\n",
    "Caso esteja errado, peça a digitação novamente\n",
    "até ter um valor correto.\n",
    "'''\n"
   ]
  },
  {
   "cell_type": "code",
   "execution_count": null,
   "metadata": {},
   "outputs": [],
   "source": [
    "''' Melhore o jogo do DESAFIO 028 onde o computador vai \"pensar\"\n",
    "em um número entre 0 e 10. \n",
    "Só que agora o jogador vai tentar adivinhar até acertar, \n",
    "mostrando no final quantos palpites foram necessários para vencer\n",
    "'''\n"
   ]
  },
  {
   "cell_type": "code",
   "execution_count": null,
   "metadata": {},
   "outputs": [],
   "source": [
    "''' Crie um programa que leia dois valores e mostre um menu\n",
    "na tela:\n",
    "\n",
    "1: somar\n",
    "2: multiplicar\n",
    "3: maior\n",
    "4: novos números\n",
    "5: sair do programa\n",
    "\n",
    "Seu programa deverá realizar a operação solicitada em cada caso '''"
   ]
  },
  {
   "cell_type": "code",
   "execution_count": null,
   "metadata": {},
   "outputs": [],
   "source": [
    "''' Faça um programa que leia um número qualquer e mostre\n",
    "o seu fatorial \n",
    "\n",
    "exemplo: 5! = 5 * 4 * 3 * 2 * 1 = 120\n",
    "'''"
   ]
  },
  {
   "cell_type": "code",
   "execution_count": null,
   "metadata": {},
   "outputs": [],
   "source": [
    "'''\n",
    "Refaça o DESAFIO 51, lendo o primeiro termo e a razão de uma PA,\n",
    "mostrando os 10 primeiros termos da progressão usando\n",
    "a estrutura while\n",
    "'''"
   ]
  },
  {
   "cell_type": "code",
   "execution_count": null,
   "metadata": {},
   "outputs": [],
   "source": [
    "'''\n",
    "Melhore o exercício 61, perguntando para o usuário\n",
    "se ele quer mostrar mais alguns termos\n",
    "O programa encerra quando ele disser que quer mostrar \"0 termos\"\n",
    "'''"
   ]
  },
  {
   "cell_type": "code",
   "execution_count": null,
   "metadata": {},
   "outputs": [],
   "source": [
    "'''\n",
    "Escreva um programa que leia um número n inteiro qualquer\n",
    "e mostre na tela os primeiros n elementos e uma sequência de Fibonacci\n",
    "\n",
    "1, 1, 2, 3, 5, 8, 13, 21, 34, 55, 89, 144, 233, 377, 610, 987, 1597, 2584 (...)\n",
    "\n",
    "'''"
   ]
  },
  {
   "cell_type": "code",
   "execution_count": null,
   "metadata": {},
   "outputs": [],
   "source": [
    "'''\n",
    "Crie um programa que leia vários números inteiros pelo teclado\n",
    "O programa só vai parar quando o usuário digitar o valor 999,\n",
    "que é a condição de parada\n",
    "\n",
    "No final, mostre quantos números foram digitados e qual foi a soma\n",
    "entre eles (desconsiderando o flag!)\n",
    "'''\n"
   ]
  },
  {
   "cell_type": "code",
   "execution_count": null,
   "metadata": {},
   "outputs": [],
   "source": [
    "''' Crie um programa que leia vários números inteiros pelo teclado\n",
    "No final da execução, mostre a média entre todos os valores\n",
    "e qual foi o maior e o menor valores lidos\n",
    "O programa deve perguntar ao usuário se ele quer ou não continuar\n",
    "a digitar valores\n",
    "'''\n"
   ]
  },
  {
   "cell_type": "code",
   "execution_count": null,
   "metadata": {},
   "outputs": [],
   "source": []
  }
 ],
 "metadata": {
  "language_info": {
   "name": "python"
  }
 },
 "nbformat": 4,
 "nbformat_minor": 2
}
