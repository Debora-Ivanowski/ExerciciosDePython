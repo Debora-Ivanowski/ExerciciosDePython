{
 "cells": [
  {
   "cell_type": "code",
   "execution_count": null,
   "metadata": {},
   "outputs": [],
   "source": [
    "#Escreva um programa que leia a velocidade de um carro Se ele ultrapassar 80km/h, mostre uma mensagem dizendo que ele foi multado A multa vai custar R$7,00 por cada Km acima do limite.\n",
    "\n",
    "vel = int(input(\"Velocidade do carro: \\n\"))\n",
    "if vel > 80:\n",
    "    print(\"Você está acima do limite permitido! \\nVelocidade de {}km/h!\".format(vel))\n",
    "    multa = 7 * (vel - 80)\n",
    "    print(\"Sua multa é de R${:.2f}.\".format(multa))\n",
    "else:\n",
    "    print(\"Velocidade dentro do limite. Boa viagem.\")"
   ]
  },
  {
   "cell_type": "code",
   "execution_count": null,
   "metadata": {},
   "outputs": [],
   "source": [
    "\n",
    "#Crie um programa que leia um número inteiro e mostre na tela se ele é PAR ou ÍMPAR.\n",
    "\n",
    "n = int(input(\"Descubra se um número é par ou ímpar: \\n\"))\n",
    "if n % 2 == 0:\n",
    "    print(\"O número {} é par.\".format(n))\n",
    "else:\n",
    "    print(\"O número {} é ímpar.\".format(n))"
   ]
  },
  {
   "cell_type": "code",
   "execution_count": 6,
   "metadata": {},
   "outputs": [
    {
     "name": "stdout",
     "output_type": "stream",
     "text": [
      "Pagar 90.9 reais\n"
     ]
    }
   ],
   "source": [
    "\n",
    "#Desenvolva um programa que pergunte a distância de uma viagem em Km.Calcule o preço da passagem, cobrando R$ 0,50 por Km para viagens de até 200km e R$ 0,45 para viagens mais longas\n",
    "\n",
    "distancia = float(input(\"Qual a distancia?\"))\n",
    "if distancia <= 200 :\n",
    "    valor = distancia * 0.5\n",
    "else: \n",
    "    valor = distancia * 0.45\n",
    "print(\"Pagar {} reais\".format(valor))\n",
    "\n"
   ]
  },
  {
   "cell_type": "code",
   "execution_count": 7,
   "metadata": {},
   "outputs": [
    {
     "name": "stdout",
     "output_type": "stream",
     "text": [
      "3 é maior\n"
     ]
    }
   ],
   "source": [
    "#Faça um programa que leia três números e mostre qual é o maior e qual é o menor\n",
    "\n",
    "a = int(input(\"Digite um primeiro número: \\n\"))\n",
    "b = int(input(\"Digite um segundo número: \\n\"))\n",
    "c = int(input(\"Digite um terceiro e último número: \\n\"))\n",
    "\n",
    "\n",
    "# Verificando os menores:\n",
    "menor = a\n",
    "\n",
    "if b < a and b < c:\n",
    "    menor = b\n",
    "if c < a and c < b:\n",
    "    menor = c\n",
    "\n",
    "# Verificando os maiores:\n",
    "maior = a\n",
    "\n",
    "if b > a and b > c:\n",
    "    maior = b\n",
    "if c > a and c > b:\n",
    "    maior = c\n",
    "\n",
    "# Printando os resultados onde a variável parou:\n",
    "\n",
    "print(\"O maior resultado foi: {}.\".format(maior))\n",
    "print(\"O menor resultado foi: {}.\".format(menor))\n"
   ]
  },
  {
   "cell_type": "code",
   "execution_count": null,
   "metadata": {},
   "outputs": [],
   "source": [
    "# Escreva um programa que pergunte o salário de um funcionário e calcule o valor do seu aumento Para salários superiores a R$ 1.250,00, calcule um aumento de 10% Para os inferiores ou iguais, o aumento é de R$ 15%.\n",
    "\n",
    "sal = float(input(\"Digite seu salário: \\n\"))\n",
    "if sal > 1250:\n",
    "    aum = (sal + (sal * 10/100))\n",
    "    print(\"Com o aumento de 10%, o seu salário foi de R${:.2f} para R${:.2f}.\".format(sal, aum))\n",
    "else:\n",
    "    aum = (sal + (sal * 15/100))\n",
    "    print(\"Com o aumento de 15%, o seu salário foi de R${:.2f} para R${:.2f}.\".format(sal, aum))"
   ]
  },
  {
   "cell_type": "code",
   "execution_count": null,
   "metadata": {},
   "outputs": [],
   "source": [
    "# Desenvolva um programa que leia o comprimento de três retas e diga ao usuário se elas podem ou não formar um triângulo. \n",
    "\n",
    "ab = float(input(\"Primeiro segmento de reta: \\n\"))\n",
    "cd = float(input(\"Segundo segmento de reta: \\n\"))\n",
    "ef = float(input(\"Terceiro segmento de reta: \\n\"))\n",
    "\n",
    "if ab + cd > ef and ab + ef > cd and cd + ef > ab:\n",
    "    print(\"O triângulo existe.\")\n",
    "else:\n",
    "    print(\"O triângulo não pode existir.\")"
   ]
  }
 ],
 "metadata": {
  "kernelspec": {
   "display_name": "Python 3",
   "language": "python",
   "name": "python3"
  },
  "language_info": {
   "codemirror_mode": {
    "name": "ipython",
    "version": 3
   },
   "file_extension": ".py",
   "mimetype": "text/x-python",
   "name": "python",
   "nbconvert_exporter": "python",
   "pygments_lexer": "ipython3",
   "version": "3.12.3"
  }
 },
 "nbformat": 4,
 "nbformat_minor": 2
}
