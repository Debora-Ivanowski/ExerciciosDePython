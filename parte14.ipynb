{
 "cells": [
  {
   "cell_type": "code",
   "execution_count": null,
   "metadata": {},
   "outputs": [],
   "source": [
    "from datetime import date\n",
    "\n",
    "\"\"\"\n",
    "Crie um programa que tenha uma função chamada voto()\n",
    "que vai receber como parâmetro o ano de nascimento de uma pessoa, \n",
    "retornando um valor literal indicando se uma pessoa tem voto \n",
    "NEGADO, OPCIONAL ou OBRIGATORIO nas eleições.\n",
    "\"\"\"\n"
   ]
  },
  {
   "cell_type": "code",
   "execution_count": null,
   "metadata": {},
   "outputs": [],
   "source": [
    "\"\"\"\n",
    "Crie um programa que tenha uma função fatorial() que receba dois parâmetros:\n",
    "o primeiro que indique o número a calcular\n",
    "e o outro chamado show, que será um valor lógico (opcional) \n",
    "indicando se será mostrado ou não na tela o processo de cálculo do fatorial.\n",
    "\"\"\"\n"
   ]
  },
  {
   "cell_type": "code",
   "execution_count": null,
   "metadata": {},
   "outputs": [],
   "source": [
    "\"\"\"\n",
    "Faça um programa que tenha uma função chamada ficha(), que receba dois parâmetros:\n",
    "o nome de um jogador e quantos gols ele marcou.\n",
    "\n",
    "O programa deverá ser capaz de mostrar a ficha do jogador, mesmo que algum dado não tenha sido informado corretamente.\n",
    "\"\"\"\n"
   ]
  },
  {
   "cell_type": "code",
   "execution_count": null,
   "metadata": {},
   "outputs": [],
   "source": [
    "\"\"\"\n",
    "Crie um programa que tenha a função leia_int(), \n",
    "que vai funcionar de forma semelhante à função input do Python,\n",
    "só que fazendo a validação para aceitar apenas um valor numérico.\n",
    "\n",
    "ex.:\n",
    "n = leia_int(\"Digite um n\")\n",
    "\"\"\"\n"
   ]
  },
  {
   "cell_type": "code",
   "execution_count": null,
   "metadata": {},
   "outputs": [],
   "source": [
    "\"\"\"\n",
    "Faça um programa que tenha uma função notas()\n",
    "que pode receber várias notas de alunos e vai retornar um dicionário com as seguintes informações:\n",
    "\n",
    "quantidade de notas\n",
    "a maior nota\n",
    "a menor nota\n",
    "a média da turma\n",
    "a situação (opcional)\n",
    "\n",
    "Adicione tambeem as docstrings da função\n",
    "\"\"\"\n"
   ]
  },
  {
   "cell_type": "code",
   "execution_count": null,
   "metadata": {},
   "outputs": [],
   "source": [
    "from time import sleep\n",
    "\n",
    "\"\"\"\n",
    "Faça um minissistema que utilize o interactive help do Python\n",
    "\n",
    "O usuário vai digitar o comando e o manual vai aparecer.\n",
    "\n",
    "Quando o usuário digitar a palavra \"FIM\", o programa se encerrará!.\n",
    "\n",
    "OBS: use cores.\n",
    "\"\"\"\n"
   ]
  }
 ],
 "metadata": {
  "language_info": {
   "name": "python"
  }
 },
 "nbformat": 4,
 "nbformat_minor": 2
}
