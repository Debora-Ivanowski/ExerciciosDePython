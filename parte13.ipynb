{
 "cells": [
  {
   "cell_type": "code",
   "execution_count": null,
   "metadata": {},
   "outputs": [],
   "source": [
    "from random import randint\n",
    "from time import sleep\n",
    "\n",
    "\"\"\"\n",
    "Faça um programa que tenha uma lista chamada números e duas funções chamadas sorteia() e soma_par(). \n",
    "A primeira função vai sortear 5 números e vai colocá-los dentro da lista \n",
    "e a segunda função vai mostrar a soma entre todos os valores pares sorteados pela função anterior.\n",
    "\"\"\""
   ]
  },
  {
   "cell_type": "code",
   "execution_count": null,
   "metadata": {},
   "outputs": [],
   "source": [
    "\"\"\"Faça um programa que tenha uma função chamada area(), que receba dimensões de um terreno retangular (largura e comprimento) e mostre a área do terreno\n",
    "\"\"\""
   ]
  },
  {
   "cell_type": "code",
   "execution_count": null,
   "metadata": {},
   "outputs": [],
   "source": [
    "\"\"\"Faça um programa que tenha uma função chamada escreva(), \n",
    "que receba um texto qualquer como parâmetro \n",
    "e mostre uma mensagem com tamanho adaptável.\n",
    "\n",
    "Ex:\n",
    "escreva(\"Olá, Mundo!\")\n",
    "\n",
    "Saída:\n",
    "\n",
    "~~~~~~~~~~~\n",
    "Olá, Mundo!\n",
    "~~~~~~~~~~~\n",
    "\"\"\""
   ]
  },
  {
   "cell_type": "code",
   "execution_count": null,
   "metadata": {},
   "outputs": [],
   "source": [
    "from time import sleep\n",
    "\n",
    "\"\"\"\n",
    "Faça um programa que tenha uma função chamada contador(), que recebe três parâmetros:\n",
    "início, fim e passo\n",
    "E realize a contagem\n",
    "\n",
    "Seu programa tem que realizar três contagens através da função criada\n",
    "\n",
    "a) de 1 até 10, de 1 em 1\n",
    "b) de 10 até 0, de 2 em 2\n",
    "c) Uma contagem personalizada\n",
    "\n",
    "--> print(f\"{valor} \", end=\"\")  # Exemplo de print espaçado\n",
    "\"\"\""
   ]
  },
  {
   "cell_type": "code",
   "execution_count": null,
   "metadata": {},
   "outputs": [],
   "source": [
    "from time import sleep\n",
    "\n",
    "\n",
    "\"\"\"\n",
    "Faça um programa que tenha uma função chamada maior(), que receba vários parâmetros com valores inteiros.\n",
    "\n",
    "Seu programa tem que analisar todos os valores e dizer qual deles é o maior.\n",
    "\"\"\""
   ]
  },
  {
   "cell_type": "code",
   "execution_count": null,
   "metadata": {},
   "outputs": [],
   "source": []
  }
 ],
 "metadata": {
  "language_info": {
   "name": "python"
  }
 },
 "nbformat": 4,
 "nbformat_minor": 2
}
