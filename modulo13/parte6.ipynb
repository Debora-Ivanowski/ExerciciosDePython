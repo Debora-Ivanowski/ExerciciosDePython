{
 "cells": [
  {
   "cell_type": "code",
   "execution_count": 5,
   "metadata": {},
   "outputs": [
    {
     "name": "stdout",
     "output_type": "stream",
     "text": [
      "5\n",
      "4\n",
      "3\n",
      "2\n",
      "1\n",
      "0\n",
      "FELIZ ANO NOVO!\n"
     ]
    }
   ],
   "source": [
    "# Faça um programa que mostre na tela\n",
    "# Uma contagem regressiva para o estouro e fogos de artifício,\n",
    "# Indo de 5 até 0, com uma pausa de 1 segundo entre eles.\n",
    "\n",
    "from time import sleep\n",
    "\n",
    "for i in range(5, -1, -1):\n",
    "    print(i)\n",
    "    sleep(1)\n",
    "print(\"FELIZ ANO NOVO!\")\n",
    "\n",
    "# i é o contador, como se fosse a variavel armazenada, mas que muda a cada iteração\n",
    "#sem o sleep, ele mostra a sequencia decrescente de uma vez só, sem o intervalinho.\n",
    "'''range(5, -1, -1):\n",
    "5: Valor inicial.\n",
    "-1: Valor de parada (o loop para antes de alcançar este valor).\n",
    "-1: Passo negativo, o que indica que a sequência deve diminuir a cada iteração.'''\n"
   ]
  },
  {
   "cell_type": "code",
   "execution_count": 10,
   "metadata": {},
   "outputs": [
    {
     "name": "stdout",
     "output_type": "stream",
     "text": [
      "2\n",
      "4\n",
      "6\n",
      "8\n",
      "10\n",
      "12\n",
      "14\n",
      "16\n",
      "18\n",
      "20\n",
      "22\n",
      "24\n",
      "26\n",
      "28\n",
      "30\n",
      "32\n",
      "34\n",
      "36\n",
      "38\n",
      "40\n",
      "42\n",
      "44\n",
      "46\n",
      "48\n",
      "50\n"
     ]
    }
   ],
   "source": [
    "# Crie um programa que mostre na tela todos os números pares\n",
    "# que estão no intervalo entre 1 e 50\n",
    "\n",
    "for i in range(2,52,2):\n",
    "    print(i)\n"
   ]
  },
  {
   "cell_type": "code",
   "execution_count": 11,
   "metadata": {},
   "outputs": [
    {
     "name": "stdout",
     "output_type": "stream",
     "text": [
      "A soma dos múltiplos é: 20667.\n"
     ]
    }
   ],
   "source": [
    "# Faça um programa que calcule a soma entre todos os números impares\n",
    "# que são múltiplos de três (3) e que se encontram no intervalo de 1 até 500.\n",
    "s = 0\n",
    "for num in range(1,501):\n",
    "    if num % 2 != 0:\n",
    "        if num % 3 == 0:\n",
    "            s += num  # soma = soma + num\n",
    "print(\"A soma dos múltiplos é: {}.\".format(s))\n",
    "\n",
    "#sei que o loop pega até a soma porque tem a indentação\n",
    "\n",
    "\n"
   ]
  },
  {
   "cell_type": "code",
   "execution_count": 12,
   "metadata": {},
   "outputs": [
    {
     "name": "stdout",
     "output_type": "stream",
     "text": [
      "100 x 1 = 100\n",
      "100 x 2 = 200\n",
      "100 x 3 = 300\n",
      "100 x 4 = 400\n",
      "100 x 5 = 500\n",
      "100 x 6 = 600\n",
      "100 x 7 = 700\n",
      "100 x 8 = 800\n",
      "100 x 9 = 900\n",
      "100 x 10 = 1000\n"
     ]
    }
   ],
   "source": [
    "# Refaça o desafio da tabuada de um número que o usuário escolher, só que agora utilizando um laço for\n",
    "\n",
    "num = int(input(\"Digite um número: \\n\"))\n",
    "for i in range(1, 11):\n",
    "    print(\"{} x {} = {}\".format(num, i, (num * i)))"
   ]
  },
  {
   "cell_type": "code",
   "execution_count": null,
   "metadata": {},
   "outputs": [],
   "source": [
    "# Desenvolva um programa que leia seis números inteiros e mostre a soma apenas daqueles que forem pares Se o valor digitado for ímpar, desconsidere-o."
   ]
  },
  {
   "cell_type": "code",
   "execution_count": null,
   "metadata": {},
   "outputs": [],
   "source": [
    "# Desenvolva um programa que leia o primeiro termo e a razão de uma PA (Progressão Aritmética). No final, mostre os 10 primeiros termos dessa progressão."
   ]
  },
  {
   "cell_type": "code",
   "execution_count": null,
   "metadata": {},
   "outputs": [],
   "source": [
    "''' Faça um programa que leia um número inteiro e diga se ele é ou não\n",
    "um número primo'''"
   ]
  },
  {
   "cell_type": "code",
   "execution_count": null,
   "metadata": {},
   "outputs": [],
   "source": [
    "''' Crie um programa que leia uma frase qualquer\n",
    "E diga se ela é um palíndromo, desconsiderando os espaços'''\n",
    "# Após a sopa\n",
    "# A sacada da casa\n",
    "# A torre da derrota\n",
    "# o lobo ama o bolo\n",
    "# Anotaram a data da maratona\n"
   ]
  },
  {
   "cell_type": "code",
   "execution_count": null,
   "metadata": {},
   "outputs": [],
   "source": [
    "from datetime import date\n",
    "''' Crie um programa que leia o ano de nascimento de sete pessoas\n",
    "No final, mostre quantas pessoas ainda não atingiram a maioridade\n",
    "e quantas já são maiores'''"
   ]
  },
  {
   "cell_type": "code",
   "execution_count": null,
   "metadata": {},
   "outputs": [],
   "source": [
    "''' Faça um programa que leia o peso de cinco pessoas\n",
    "No final, mostre qual foi o maior e o menor peso lidos'''\n",
    "\n",
    "larger = 0\n",
    "smaller = 0"
   ]
  },
  {
   "cell_type": "code",
   "execution_count": null,
   "metadata": {},
   "outputs": [],
   "source": [
    "''' Desenvolva um programa que leia nome, idade e sexo de 4 pessoas\n",
    "No final do programa, mostre:\n",
    " - A média de idade do grupo\n",
    " - Qual é o nome do homem mais velho\n",
    " - Quantas mulheres têm menos de 20 anos\n",
    " '''"
   ]
  }
 ],
 "metadata": {
  "kernelspec": {
   "display_name": "Python 3",
   "language": "python",
   "name": "python3"
  },
  "language_info": {
   "codemirror_mode": {
    "name": "ipython",
    "version": 3
   },
   "file_extension": ".py",
   "mimetype": "text/x-python",
   "name": "python",
   "nbconvert_exporter": "python",
   "pygments_lexer": "ipython3",
   "version": "3.12.3"
  }
 },
 "nbformat": 4,
 "nbformat_minor": 2
}
