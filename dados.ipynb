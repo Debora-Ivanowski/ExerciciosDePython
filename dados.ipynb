{
 "cells": [
  {
   "cell_type": "code",
   "execution_count": 3,
   "metadata": {},
   "outputs": [],
   "source": [
    "import pandas as pd"
   ]
  },
  {
   "cell_type": "code",
   "execution_count": 7,
   "metadata": {},
   "outputs": [
    {
     "name": "stdout",
     "output_type": "stream",
     "text": [
      "    Nome  Idade  Salario\n",
      "0   Joao     25     5000\n",
      "1  Maria     30     6000\n",
      "2  Pedro     35     7000\n",
      "3    Ana     40     8000\n",
      "4   Mark     34     5500\n"
     ]
    }
   ],
   "source": [
    "dados = {\n",
    "    'Nome': ['Joao', 'Maria', 'Pedro', 'Ana', 'Mark'],\n",
    "    'Idade': [25, 30, 35, 40, 34],\n",
    "    'Salario': [5000, 6000, 7000, 8000, 5500]\n",
    "}\n",
    "\n",
    "\n",
    "\n",
    "df = pd.DataFrame(dados)\n",
    "print(df)\n"
   ]
  },
  {
   "cell_type": "code",
   "execution_count": 8,
   "metadata": {},
   "outputs": [
    {
     "name": "stdout",
     "output_type": "stream",
     "text": [
      "Nome Joao Idade 25\n",
      "Nome Maria Idade 30\n",
      "Nome Pedro Idade 35\n",
      "Nome Ana Idade 40\n",
      "Nome Mark Idade 34\n"
     ]
    }
   ],
   "source": [
    "i = 0 \n",
    "while i < len(df):\n",
    "    print(\"Nome\", df['Nome'][i], \"Idade\", df['Idade'][i])\n",
    "    i += 1"
   ]
  },
  {
   "cell_type": "code",
   "execution_count": 9,
   "metadata": {},
   "outputs": [
    {
     "name": "stdout",
     "output_type": "stream",
     "text": [
      "<class 'pandas.core.frame.DataFrame'>\n",
      "RangeIndex: 5 entries, 0 to 4\n",
      "Data columns (total 3 columns):\n",
      " #   Column   Non-Null Count  Dtype \n",
      "---  ------   --------------  ----- \n",
      " 0   Nome     5 non-null      object\n",
      " 1   Idade    5 non-null      int64 \n",
      " 2   Salario  5 non-null      int64 \n",
      "dtypes: int64(2), object(1)\n",
      "memory usage: 252.0+ bytes\n"
     ]
    }
   ],
   "source": [
    "df.info()"
   ]
  },
  {
   "cell_type": "code",
   "execution_count": null,
   "metadata": {},
   "outputs": [],
   "source": [
    "# df1 = pd.read_csv('/content/dados1.cvs')\n",
    "# print(df1)"
   ]
  },
  {
   "cell_type": "code",
   "execution_count": 10,
   "metadata": {},
   "outputs": [
    {
     "name": "stdout",
     "output_type": "stream",
     "text": [
      "Nome       Pedro\n",
      "Idade         35\n",
      "Salario     7000\n",
      "Name: 2, dtype: object\n",
      "Nome        Ana\n",
      "Idade        40\n",
      "Salario    8000\n",
      "Name: 3, dtype: object\n"
     ]
    }
   ],
   "source": [
    "i = 0 \n",
    "while i < len(df):\n",
    "    \n",
    "    if df['Salario'][i] > 6000:\n",
    "        print(df.iloc[i])\n",
    "    i += 1"
   ]
  },
  {
   "cell_type": "code",
   "execution_count": 11,
   "metadata": {},
   "outputs": [
    {
     "name": "stdout",
     "output_type": "stream",
     "text": [
      "0    5000\n",
      "1    6000\n",
      "2    7000\n",
      "3    8000\n",
      "4    5500\n",
      "Name: Salario, dtype: int64\n"
     ]
    }
   ],
   "source": [
    "Salario =df['Salario']\n",
    "print(Salario)"
   ]
  },
  {
   "cell_type": "code",
   "execution_count": 12,
   "metadata": {},
   "outputs": [],
   "source": [
    "input = df[['Nome', 'Idade']]\n",
    "output = ['Salario']"
   ]
  },
  {
   "cell_type": "code",
   "execution_count": 13,
   "metadata": {},
   "outputs": [
    {
     "name": "stdout",
     "output_type": "stream",
     "text": [
      "5000\n",
      "6000\n",
      "7000\n",
      "8000\n",
      "5500\n"
     ]
    }
   ],
   "source": [
    "for k in df['Salario']:\n",
    "    print(k)"
   ]
  },
  {
   "cell_type": "code",
   "execution_count": 14,
   "metadata": {},
   "outputs": [
    {
     "name": "stdout",
     "output_type": "stream",
     "text": [
      "Media de Idade é 32.8\n",
      "Media de Salario é 6300.0\n"
     ]
    }
   ],
   "source": [
    "for k in df.select_dtypes(include = ['int', 'float']):\n",
    "    media = df[k]. mean()\n",
    "    print(\"Media de\", k , \"é\", media)"
   ]
  },
  {
   "cell_type": "code",
   "execution_count": 15,
   "metadata": {},
   "outputs": [
    {
     "name": "stdout",
     "output_type": "stream",
     "text": [
      "Media de Nome é Nome\n",
      "Joao     1\n",
      "Maria    1\n",
      "Pedro    1\n",
      "Ana      1\n",
      "Mark     1\n",
      "Name: count, dtype: int64\n"
     ]
    }
   ],
   "source": [
    "for k in df.select_dtypes(include = ['object']):\n",
    "    contador = df[k]. value_counts()\n",
    "    print(\"Media de\", k , \"é\", contador)"
   ]
  },
  {
   "cell_type": "code",
   "execution_count": 17,
   "metadata": {},
   "outputs": [
    {
     "name": "stdout",
     "output_type": "stream",
     "text": [
      "6300.0\n"
     ]
    }
   ],
   "source": [
    "soma_salarios = 0\n",
    "contador = 0 \n",
    "i = 0\n",
    "\n",
    "while i < len(df):\n",
    "    soma_salarios += df['Salario'][i]\n",
    "    i += 1\n",
    "    \n",
    "    media_salarios = soma_salarios / i\n",
    "\n",
    "print(media_salarios)"
   ]
  },
  {
   "cell_type": "code",
   "execution_count": 20,
   "metadata": {},
   "outputs": [
    {
     "name": "stdout",
     "output_type": "stream",
     "text": [
      "6500.0\n"
     ]
    }
   ],
   "source": [
    "soma_salarios = 0\n",
    "i = 0\n",
    "contador =0\n",
    "\n",
    "while i < len(df):\n",
    "    soma_salarios += df['Salario'][i]\n",
    "    contador += 1\n",
    "    media_salarios = soma_salarios / contador\n",
    "\n",
    "\n",
    "    if media_salarios > 6000:\n",
    "        break\n",
    "    i += 1\n",
    "\n",
    "print(media_salarios)"
   ]
  },
  {
   "cell_type": "code",
   "execution_count": 21,
   "metadata": {},
   "outputs": [
    {
     "name": "stdout",
     "output_type": "stream",
     "text": [
      "Bonus calculado é :  [0    500.0\n",
      "1    600.0\n",
      "2    700.0\n",
      "3    800.0\n",
      "4    550.0\n",
      "Name: Salario, dtype: float64, 0    500.0\n",
      "1    600.0\n",
      "2    700.0\n",
      "3    800.0\n",
      "4    550.0\n",
      "Name: Salario, dtype: float64, 0    500.0\n",
      "1    600.0\n",
      "2    700.0\n",
      "3    800.0\n",
      "4    550.0\n",
      "Name: Salario, dtype: float64, 0    500.0\n",
      "1    600.0\n",
      "2    700.0\n",
      "3    800.0\n",
      "4    550.0\n",
      "Name: Salario, dtype: float64, 0    500.0\n",
      "1    600.0\n",
      "2    700.0\n",
      "3    800.0\n",
      "4    550.0\n",
      "Name: Salario, dtype: float64]\n"
     ]
    }
   ],
   "source": [
    "def calcula_bonus(salario):\n",
    "    aumento = salario * 0.1\n",
    "    return aumento\n",
    "\n",
    "bonus = []\n",
    "\n",
    "for indice, linha in df.iterrows():\n",
    "    bonus.append(calcula_bonus(df['Salario']))\n",
    "\n",
    "print(\"Bonus calculado é : \", bonus)"
   ]
  },
  {
   "cell_type": "code",
   "execution_count": 25,
   "metadata": {},
   "outputs": [
    {
     "name": "stdout",
     "output_type": "stream",
     "text": [
      "Joao 25\n",
      "Maria 30\n",
      "Pedro 35\n",
      "Ana 40\n",
      "Mark 34\n"
     ]
    }
   ],
   "source": [
    "for index, row in df.iterrows():\n",
    "    print(row['Nome'], row['Idade'])"
   ]
  },
  {
   "cell_type": "code",
   "execution_count": 26,
   "metadata": {},
   "outputs": [
    {
     "name": "stdout",
     "output_type": "stream",
     "text": [
      "Pedro 35\n",
      "Ana 40\n"
     ]
    }
   ],
   "source": [
    "for index, row in df.iterrows():\n",
    "    if row['Salario'] > 6000:\n",
    "        print(row['Nome'], row['Idade'])"
   ]
  },
  {
   "cell_type": "code",
   "execution_count": null,
   "metadata": {},
   "outputs": [],
   "source": [
    "# UTILIZANDO O DATAFRAME MANUTENÇÃO PREDITIVA, RESPONDA AS SEGUINTES QUESTOES\n",
    "#a- utilize o select dtypes para mostrar a media de todas as colunas numéricas.\n",
    "#b- utilize o select dtypes para mostrar contar os valores das colunas não numericas.\n",
    "#c- utilize uma estrutura de repetição para mostrar todo dataset apenas quando as maquinas forem do tipo A\n",
    "#d- utilize uma estrutura de repetição para mostrar todo dataset apenas quando as falhas forem falhas de energia (power failure).\n",
    "#e- mostre a quantidade de falhas por tipo de maquina.\n"
   ]
  },
  {
   "cell_type": "code",
   "execution_count": null,
   "metadata": {},
   "outputs": [],
   "source": []
  }
 ],
 "metadata": {
  "kernelspec": {
   "display_name": "Python 3",
   "language": "python",
   "name": "python3"
  },
  "language_info": {
   "codemirror_mode": {
    "name": "ipython",
    "version": 3
   },
   "file_extension": ".py",
   "mimetype": "text/x-python",
   "name": "python",
   "nbconvert_exporter": "python",
   "pygments_lexer": "ipython3",
   "version": "3.12.3"
  }
 },
 "nbformat": 4,
 "nbformat_minor": 2
}
