{
 "cells": [
  {
   "cell_type": "code",
   "execution_count": 2,
   "metadata": {},
   "outputs": [
    {
     "name": "stdout",
     "output_type": "stream",
     "text": [
      "O sexo informado foi: F\n"
     ]
    }
   ],
   "source": [
    "'''\n",
    "Faça um programa que leia o sexo de uma pessoa\n",
    "mas só aceite os valores \"M\" ou \"F\".\n",
    "Caso esteja errado, peça a digitação novamente\n",
    "até ter um valor correto.\n",
    "'''\n",
    "def ler_sexo():\n",
    "    while True:\n",
    "        sexo = input(\"Digite o sexo (M/F): \").strip().upper()\n",
    "        if sexo in ('M', 'F'):\n",
    "            return sexo\n",
    "        else:\n",
    "            print(\"Valor inválido. Por favor, digite 'M' para masculino ou 'F' para feminino.\")\n",
    "\n",
    "sexo = ler_sexo()\n",
    "print(f\"O sexo informado foi: {sexo}\")\n",
    "\n",
    "#sexo=ler_sexo() pq sexo esta dentro da função, nao funciona fora dela"
   ]
  },
  {
   "cell_type": "code",
   "execution_count": 6,
   "metadata": {},
   "outputs": [
    {
     "name": "stdout",
     "output_type": "stream",
     "text": [
      "Você errou! \n",
      "Dica: digite um número menor.\n",
      "Número digitado: 5.\n",
      "Você errou! \n",
      "Dica: digite um número menor.\n",
      "Número digitado: 4.\n",
      "Você errou! \n",
      "Dica: digite um número menor.\n",
      "Número digitado: 3.\n",
      "Número digitado: 2.\n",
      "Número da máquina: 2.\n",
      "Parabéns, você venceu.\n",
      "Número de tentativas: 3.\n"
     ]
    }
   ],
   "source": [
    "''' Melhore o jogo do DESAFIO 028 onde o computador vai \"pensar\"\n",
    "em um número entre 0 e 10. \n",
    "Só que agora o jogador vai tentar adivinhar até acertar, \n",
    "mostrando no final quantos palpites foram necessários para vencer\n",
    "'''\n",
    "from random import randint\n",
    "from time import sleep\n",
    "\n",
    "ran = -1\n",
    "counter = 0\n",
    "\n",
    "num = int(input(\"Em qual número você acha que eu pensei? \\n\"))  # Pedido\n",
    "ran = randint(0, 5)\n",
    "\n",
    "while num != ran:\n",
    "    if num < 0 or num > 5:  # entrada errada do usuário\n",
    "        if num < 0:\n",
    "            print(\"O número não pode ser negativo!\")\n",
    "            num = int(input(\"Digite: \\n\"))  # Pedido\n",
    "        elif num > 5:\n",
    "            print(\"Tente um número menor do que 6!\")\n",
    "            num = int(input(\"Digite: \\n\"))  # Pedido\n",
    "    else:\n",
    "        if num != ran:\n",
    "            if ran > num:\n",
    "                print(\"Você errou! \\nDica: digite um número maior.\")\n",
    "                print(\"Número digitado: {}.\".format(num))\n",
    "                num = int(input(\"Tente novamente: \\n\"))  # Pedido\n",
    "            if ran < num:\n",
    "                print(\"Você errou! \\nDica: digite um número menor.\")\n",
    "                print(\"Número digitado: {}.\".format(num))\n",
    "                num = int(input(\"Tente novamente: \\n\"))  # Pedido\n",
    "    counter += 1\n",
    "print(\"Número digitado: {}.\".format(num))\n",
    "print(\"Número da máquina: {}.\".format(ran))\n",
    "print(\"Parabéns, você venceu.\")\n",
    "print(\"Número de tentativas: {}.\".format(counter))"
   ]
  },
  {
   "cell_type": "code",
   "execution_count": null,
   "metadata": {},
   "outputs": [],
   "source": [
    "''' Crie um programa que leia dois valores e mostre um menu\n",
    "na tela:\n",
    "\n",
    "1: somar\n",
    "2: multiplicar\n",
    "3: maior\n",
    "4: novos números\n",
    "5: sair do programa\n",
    "\n",
    "Seu programa deverá realizar a operação solicitada em cada caso '''\n",
    "\n",
    "num1 = float(input(\"Digite um número (1/2): \\n\"))\n",
    "num2 = float(input(\"Digite outro número (2/2): \\n\"))\n",
    "menu = (\n",
    "'''\\nMENU PRINCIPAL:\n",
    "[1] soma\n",
    "[2] multiplicação\n",
    "[3] maior ou menor\n",
    "[4] escolher novos números\n",
    "[5] encerrar o programa\\n '''\n",
    ")\n",
    "maior = 0\n",
    "menor = 0\n",
    "\n",
    "print(menu)\n",
    "\n",
    "user = int(input(\"Sua escolha (opções de 1 a 5): \\n\"))\n",
    "while user != 5:\n",
    "    if user > 5:  # exceção maior\n",
    "        print(\"Warning: escolha um número de 1 a 5.\")\n",
    "        user = int(input(\"Sua escolha: \\n\"))\n",
    "    elif user < 0:  # exceção menor\n",
    "        print(\"Warning: escolha um número positivo.\")\n",
    "        user = int(input(\"Sua escolha: \\n\"))\n",
    "    else:  # Acionamento normal do programa:\n",
    "        if user == 1:  # Soma:\n",
    "            print(\"Vocẽ escolheu soma!\")\n",
    "            print(\"Resultado da soma: \\n{} + {} = {}\".format(num1, num2, (num1 + num2)))\n",
    "            print(menu)\n",
    "            user = int(input(\"Sua escolha: \\n\"))\n",
    "        elif user == 2:  # Multiplicação:\n",
    "            print(\"Você escolheu multiplicação!\")\n",
    "            print(\"Resultado da multiplicação: \\n{} x {} = {:.0f}\".format(num1, num2, (num1 * num2)))\n",
    "            print(menu)\n",
    "            user = int(input(\"Sua escolha: \\n\"))\n",
    "        elif user == 3:  # Maior ou menor:\n",
    "            if num1 > num2:\n",
    "                maior = num1\n",
    "                menor = num2\n",
    "                print(\"O maior é {} e o menor é {}.\".format(maior, menor))\n",
    "                print(menu)\n",
    "            elif num2 > num1:\n",
    "                maior = num2\n",
    "                menor = num1\n",
    "                print(\"O maior é {} e o menor é {}.\".format(maior, menor))\n",
    "                print(menu)\n",
    "            else:\n",
    "                print(\"Os dois números são idênticos.\")\n",
    "                print(menu)\n",
    "            user = int(input(\"Sua escolha: \\n\"))\n",
    "        elif user == 4:  # Novos números:\n",
    "            new_num1 = float(input(\"Novo número 1: \\n\"))\n",
    "            new_num2 = float(input(\"Novo número 2: \\n\"))\n",
    "            num1 = new_num1\n",
    "            num2 = new_num2\n",
    "            print(menu)\n",
    "            user = int(input(\"Sua escolha: \\n\"))\n",
    "print(\"Opção 5: programa encerrado.\")\n",
    "\n"
   ]
  },
  {
   "cell_type": "code",
   "execution_count": null,
   "metadata": {},
   "outputs": [],
   "source": [
    "''' Faça um programa que leia um número qualquer e mostre\n",
    "o seu fatorial \n",
    "\n",
    "exemplo: 5! = 5 * 4 * 3 * 2 * 1 = 120\n",
    "'''"
   ]
  },
  {
   "cell_type": "code",
   "execution_count": null,
   "metadata": {},
   "outputs": [],
   "source": [
    "'''\n",
    "Refaça o DESAFIO 51, lendo o primeiro termo e a razão de uma PA,\n",
    "mostrando os 10 primeiros termos da progressão usando\n",
    "a estrutura while\n",
    "'''"
   ]
  },
  {
   "cell_type": "code",
   "execution_count": null,
   "metadata": {},
   "outputs": [],
   "source": [
    "'''\n",
    "Melhore o exercício 61, perguntando para o usuário\n",
    "se ele quer mostrar mais alguns termos\n",
    "O programa encerra quando ele disser que quer mostrar \"0 termos\"\n",
    "'''"
   ]
  },
  {
   "cell_type": "code",
   "execution_count": null,
   "metadata": {},
   "outputs": [],
   "source": [
    "'''\n",
    "Escreva um programa que leia um número n inteiro qualquer\n",
    "e mostre na tela os primeiros n elementos e uma sequência de Fibonacci\n",
    "\n",
    "1, 1, 2, 3, 5, 8, 13, 21, 34, 55, 89, 144, 233, 377, 610, 987, 1597, 2584 (...)\n",
    "\n",
    "'''"
   ]
  },
  {
   "cell_type": "code",
   "execution_count": null,
   "metadata": {},
   "outputs": [],
   "source": [
    "'''\n",
    "Crie um programa que leia vários números inteiros pelo teclado\n",
    "O programa só vai parar quando o usuário digitar o valor 999,\n",
    "que é a condição de parada\n",
    "\n",
    "No final, mostre quantos números foram digitados e qual foi a soma\n",
    "entre eles (desconsiderando o flag!)\n",
    "'''\n"
   ]
  },
  {
   "cell_type": "code",
   "execution_count": null,
   "metadata": {},
   "outputs": [],
   "source": [
    "''' Crie um programa que leia vários números inteiros pelo teclado\n",
    "No final da execução, mostre a média entre todos os valores\n",
    "e qual foi o maior e o menor valores lidos\n",
    "O programa deve perguntar ao usuário se ele quer ou não continuar\n",
    "a digitar valores\n",
    "'''\n"
   ]
  },
  {
   "cell_type": "code",
   "execution_count": null,
   "metadata": {},
   "outputs": [],
   "source": []
  }
 ],
 "metadata": {
  "kernelspec": {
   "display_name": "Python 3",
   "language": "python",
   "name": "python3"
  },
  "language_info": {
   "codemirror_mode": {
    "name": "ipython",
    "version": 3
   },
   "file_extension": ".py",
   "mimetype": "text/x-python",
   "name": "python",
   "nbconvert_exporter": "python",
   "pygments_lexer": "ipython3",
   "version": "3.12.3"
  }
 },
 "nbformat": 4,
 "nbformat_minor": 2
}
