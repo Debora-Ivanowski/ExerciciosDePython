{
 "cells": [
  {
   "cell_type": "code",
   "execution_count": null,
   "metadata": {},
   "outputs": [],
   "source": [
    "from math import sqrt, ceil\n",
    "\n",
    "num = int(input(\"Digite um número: \\n\"))\n",
    "raiz = sqrt(num)\n",
    "print(\"A raiz de {} é igual a {}!\".format(num, ceil(raiz)))\n",
    "\n",
    "#sqrt calcula a raiz quadrada e ceil arredonda pra cima"
   ]
  },
  {
   "cell_type": "code",
   "execution_count": null,
   "metadata": {},
   "outputs": [],
   "source": [
    "import random\n",
    "list = []\n",
    "num = random.randint(1, 10)\n",
    "for i in range(num):\n",
    "    list.append(i)\n",
    "    for j in list:\n",
    "        print(list)\n",
    "\n",
    "\n",
    "#list = [] cria lista vazia\n",
    "#randint numero inteiro aleatorio\n",
    "#i itera sobre um intervalo de 'num' elementos. range é sequencia de numeros, quando tem 3 numeros range(start, stop, step)\n",
    "#list.append adiciona o valor de i a lista\n"
   ]
  },
  {
   "cell_type": "code",
   "execution_count": null,
   "metadata": {},
   "outputs": [],
   "source": [
    "# Desafio 16: Crie um programa que leia um número real qualquer pelo teclado e mostre na tela a sua porção inteira.\n",
    "from math import trunc\n",
    "\n",
    "num = float(input(\"Digite o numero: /n\"))\n",
    "\n",
    "#truncar -> remove a parte decimal de um numero deixando apenas a inteira\n",
    "\n",
    "\n",
    "\n"
   ]
  },
  {
   "cell_type": "code",
   "execution_count": null,
   "metadata": {},
   "outputs": [],
   "source": [
    "# Desafio 17: Faça um programa que leia o comprimento do cateto oposto (co) e do cateto adjacente (ca) de um triângulo retângulo, calcule e mostre o comprimento da hipotenusa.\n",
    "\n",
    "from math import hypot\n",
    "\n",
    "co = float(input(\"Cateto oposto: \\n\"))\n",
    "ca = float(input(\"Cateto adjacente: \\n\"))\n",
    "\n",
    "hi = hypot(co, ca)\n",
    "print(\"A hi dos números {} e {} é {:.2f}.\".format(co, ca, hi))\n",
    "\n",
    "#:.2f o : introduz a parte da formatação. o f indica ponto flutuante e o 2 o numero de casas decimais."
   ]
  },
  {
   "cell_type": "code",
   "execution_count": null,
   "metadata": {},
   "outputs": [],
   "source": [
    "# Desafio 18: Faça um programa que leia um ângulo qualquer e mostre na tela o valor do seno, cosseno e tangente desse ângulo.\n",
    "\n",
    "from math import sin, cos, tan, radians\n",
    "\n",
    "ang = float(input(\"Digite um ângulo de uma circunferência (ou seja, entre 0º e 360º): \\n\"))\n",
    "\n",
    "seno = sin(radians(ang))\n",
    "coss = cos(radians(ang))\n",
    "tang = tan(radians(ang))\n",
    "\n",
    "print(\"O ângulo de {} tem o seno de {:.2f}.\".format(ang, seno))\n",
    "print(\"O ângulo de {} tem o cosseno de {:.2f}.\".format(ang, coss))\n",
    "print(\"O ângulo de {} tem a tangente de {:.2f}.\".format(ang, tang))"
   ]
  },
  {
   "cell_type": "code",
   "execution_count": 7,
   "metadata": {},
   "outputs": [
    {
     "name": "stdout",
     "output_type": "stream",
     "text": [
      "O aluno escolhido é Solid Snake.\n"
     ]
    }
   ],
   "source": [
    "# Um professor quer sortear um dos seus quatro alunos para apagar o quadro.\n",
    "# Faça um programa que ajude ele, lendo o nome deles e escrevendo o do escolhido.\n",
    "\n",
    "from random import choice\n",
    "\n",
    "nomes = [\"Black Panther\", \"Solid Snake\", \"Kendrick Lamar\", \"Shadow the Hedgehog\"]\n",
    "\n",
    "escolhido = choice(nomes)\n",
    "print(\"O aluno escolhido é {}.\".format(escolhido))\n",
    "\n"
   ]
  },
  {
   "cell_type": "code",
   "execution_count": 9,
   "metadata": {},
   "outputs": [
    {
     "name": "stdout",
     "output_type": "stream",
     "text": [
      "A lista de apresentação é ['Shadow the Hedgehog', 'Black Panther', 'Solid Snake', 'Kendrick Lamar'].\n"
     ]
    }
   ],
   "source": [
    "# O mesmo professor do desafio anterior quer sortear a ordem de apresentação de trabalhos dos alunos.\n",
    "# Faça um programa que leia o nome dos quatro alunos e mostre a ordem sorteada.\n",
    "from random import shuffle\n",
    "\n",
    "nomes = [\"Black Panther\", \"Solid Snake\", \"Kendrick Lamar\", \"Shadow the Hedgehog\"]\n",
    "shuffle(nomes)\n",
    "print(\"A lista de apresentação é {}.\".format(nomes))"
   ]
  }
 ],
 "metadata": {
  "kernelspec": {
   "display_name": "Python 3",
   "language": "python",
   "name": "python3"
  },
  "language_info": {
   "codemirror_mode": {
    "name": "ipython",
    "version": 3
   },
   "file_extension": ".py",
   "mimetype": "text/x-python",
   "name": "python",
   "nbconvert_exporter": "python",
   "pygments_lexer": "ipython3",
   "version": "3.11.7"
  }
 },
 "nbformat": 4,
 "nbformat_minor": 2
}
