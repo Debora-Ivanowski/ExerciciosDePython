{
 "cells": [
  {
   "cell_type": "code",
   "execution_count": 22,
   "metadata": {},
   "outputs": [],
   "source": [
    "# Crie um programa que leia o nome completo de uma pessoa:\n",
    "\n",
    "nome = str(input(\"Digite seu nome \\n\")).strip()\n",
    "\n",
    "#\\n -> indica para pular a linha e .strip() remove espaços em branco antes ou depois.. ou o caractere que for especificado"
   ]
  },
  {
   "cell_type": "code",
   "execution_count": 12,
   "metadata": {},
   "outputs": [
    {
     "name": "stdout",
     "output_type": "stream",
     "text": [
      "Nome em maiusculas: SSKVSBJKDLBJD.\n"
     ]
    }
   ],
   "source": [
    "# O nome com todas as letras maiúsculas\n",
    "\n",
    "nome = str(input(\"Digite seu nome \\n\")).strip()\n",
    "\n",
    "print(\"Nome em maiusculas: {}.\".format(nome.upper()))\n"
   ]
  },
  {
   "cell_type": "code",
   "execution_count": 11,
   "metadata": {},
   "outputs": [
    {
     "name": "stdout",
     "output_type": "stream",
     "text": [
      "Nome em minusculo: egrger.\n"
     ]
    }
   ],
   "source": [
    "# O nome com todas minúsculas\n",
    "\n",
    "print(\"Nome em minusculo: {}.\".format(nome.lower()))"
   ]
  },
  {
   "cell_type": "code",
   "execution_count": 14,
   "metadata": {},
   "outputs": [
    {
     "name": "stdout",
     "output_type": "stream",
     "text": [
      "Letras ao todo: 13\n"
     ]
    }
   ],
   "source": [
    "# Quantas letras ao todo (sem considerar espaços)\n",
    "\n",
    "print(\"Letras ao todo: {}\".format(len(nome) - nome.count(\" \")))\n",
    "\n",
    "# nome.count(\" \"))) é sobre espaços em branco"
   ]
  },
  {
   "cell_type": "code",
   "execution_count": 25,
   "metadata": {},
   "outputs": [
    {
     "name": "stdout",
     "output_type": "stream",
     "text": [
      "O primeiro nome é \"debora\" e ele tem 6 letras.\n"
     ]
    }
   ],
   "source": [
    "# Quantas letras tem o primeiro nome:\n",
    "primeiro_nome = nome.split()\n",
    "print('O primeiro nome é \"{}\" e ele tem {} letras.'.format(primeiro_nome[0], len(primeiro_nome[0])))\n",
    "\n",
    "#o primeiro nome com .split criou uma lista de nomes. "
   ]
  },
  {
   "cell_type": "code",
   "execution_count": 26,
   "metadata": {},
   "outputs": [
    {
     "name": "stdout",
     "output_type": "stream",
     "text": [
      "Unidade: 7\n",
      "Dezena: 8\n",
      "Centena: 7\n",
      "Milhar: 8\n"
     ]
    }
   ],
   "source": [
    "# Faça um programa que leia um número de 0 a 9999 e mostre na tela cada um dos dígitos separados.\n",
    "# ex.: digite um número: 1834\n",
    "# unidade: 4\n",
    "# dezenas: 3\n",
    "# centenas: 8\n",
    "# milhares: 1\n",
    "\n",
    "numero = int(input(\"Digite o numero: \\n\"))\n",
    "\n",
    "u = numero // 1 % 10\n",
    "d = numero // 10 % 10\n",
    "c = numero // 100 % 10\n",
    "m = numero // 1000 % 10\n",
    "\n",
    "print(\"Unidade: {}\".format(u))\n",
    "print(\"Dezena: {}\".format(d))\n",
    "print(\"Centena: {}\".format(c))\n",
    "print(\"Milhar: {}\".format(m))"
   ]
  },
  {
   "cell_type": "code",
   "execution_count": 32,
   "metadata": {},
   "outputs": [
    {
     "name": "stdout",
     "output_type": "stream",
     "text": [
      "True\n"
     ]
    }
   ],
   "source": [
    "# Crie um programa que leia o nome de uma cidade e diga se ela começa ou não com a palavra \"Santo\"\n",
    "\n",
    "cidade = input(\"Digite o nome da cidade: \\n\").lower().strip().split()\n",
    "\n",
    "print(cidade[0] == \"santo\")"
   ]
  },
  {
   "cell_type": "code",
   "execution_count": 35,
   "metadata": {},
   "outputs": [
    {
     "name": "stdout",
     "output_type": "stream",
     "text": [
      "True\n"
     ]
    }
   ],
   "source": [
    "# Crie um programa que leia o nome de uma pessoa e diga se ela tem \"Silva\" no nome\n",
    "nome = input(\"Digite o nome: \\n\").lower().strip().split()\n",
    "print(\"silva\" in nome )"
   ]
  },
  {
   "cell_type": "code",
   "execution_count": null,
   "metadata": {},
   "outputs": [],
   "source": [
    "# Faça um programa que leia o nome completo de uma pessoa, mostrando em seguida o primeiro e o último nome separadamente\n",
    "\n",
    "# Ex.: Ana Maria de Souza\n",
    "# Primeiro = Ana\n",
    "# Último: Souza\n",
    "\n",
    "nome = input(\"Digite o nome completo: /n\").split()\n",
    "print(nome)\n",
    "print(\"primeiro = {}\".format(nome[0]))\n",
    "print(\"ultimo = {}\".format(nome[-1]))\n",
    "\n",
    "#-1 se refere ao ultimo elemento da sequencia. -2 é o penultimo.\n",
    "\n"
   ]
  }
 ],
 "metadata": {
  "kernelspec": {
   "display_name": "Python 3",
   "language": "python",
   "name": "python3"
  },
  "language_info": {
   "codemirror_mode": {
    "name": "ipython",
    "version": 3
   },
   "file_extension": ".py",
   "mimetype": "text/x-python",
   "name": "python",
   "nbconvert_exporter": "python",
   "pygments_lexer": "ipython3",
   "version": "3.11.7"
  }
 },
 "nbformat": 4,
 "nbformat_minor": 2
}
