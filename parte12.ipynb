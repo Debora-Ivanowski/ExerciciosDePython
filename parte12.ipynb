{
 "cells": [
  {
   "cell_type": "code",
   "execution_count": null,
   "metadata": {},
   "outputs": [],
   "source": [
    "\"\"\"\n",
    "Faça um programa que leia nome e média de um aluno,\n",
    "guardando também a situação em um dicionário.\n",
    "\n",
    "No final, mostre o conteúdo da estrutura na tela.\n",
    "\"\"\""
   ]
  },
  {
   "cell_type": "code",
   "execution_count": null,
   "metadata": {},
   "outputs": [],
   "source": [
    "\"\"\"\n",
    "Crie um programa onde 4 jogadores joguem um dado\n",
    "e tenham resultados aleatórios.\n",
    "Guarde esses resultados em um dicionário.\n",
    "\n",
    "No final, coloque esse dicionário em ordem,\n",
    "sabendo que o vencedor tirou o maior número no dado\n",
    "\"\"\"\n"
   ]
  },
  {
   "cell_type": "code",
   "execution_count": null,
   "metadata": {},
   "outputs": [],
   "source": [
    "\"\"\"\n",
    "Crie um programa que leia nome, ano de nascimento e carteira de trabalho\n",
    "e cadastre-os (com idade) em um dicionário. \n",
    "Se por acaso a CTPS for diferente de zero, o dicionário receberá também\n",
    "o ano de contratação e o salário.\n",
    "Calcule e acrescente, além da idade, com quantos anos\n",
    "a pessoa vai se aposentar.\n",
    "\n",
    "Obs.: aposentadoria em 35 anos de contribuição.\n",
    "\"\"\""
   ]
  },
  {
   "cell_type": "code",
   "execution_count": null,
   "metadata": {},
   "outputs": [],
   "source": [
    "\"\"\"\n",
    "Crie um programa que gerencie o aproveitamento de um jogador de futebol.\n",
    "O programa vai ler o nome do jogador e quantas partidas ele jogou.\n",
    "Depois vai ler a quantidade de gols feitos em cada partida.\n",
    "No final, tudo isso será guardado em um dicionário,\n",
    "incluindo o total de gols feitos durante o campeonato.\n",
    "\"\"\""
   ]
  },
  {
   "cell_type": "code",
   "execution_count": null,
   "metadata": {},
   "outputs": [],
   "source": [
    "\"\"\"\n",
    "Crie um programa que leia nome, sexo e idade de várias pessoas,\n",
    "guardando os dados de cada pessoa em um dicionário\n",
    "e todos os dicionários em uma lista.\n",
    "\n",
    "No final, mostre:\n",
    "a. Quantas pessoas foram cadastradas\n",
    "b. A média de idade do grupo\n",
    "c. uma lista com todas as mulheres\n",
    "d. uma lista com todas as pessoas com idade acima da média.\n",
    "\"\"\""
   ]
  },
  {
   "cell_type": "code",
   "execution_count": null,
   "metadata": {},
   "outputs": [],
   "source": [
    "\"\"\"\n",
    "Aprimore o DESAFIO 093 para que ele funcione com vários jogadores,\n",
    "incluindo um sistema de visualização de detalhes de aproveitamento \n",
    "de cada jogador.\n",
    "\"\"\""
   ]
  },
  {
   "cell_type": "code",
   "execution_count": null,
   "metadata": {},
   "outputs": [],
   "source": []
  }
 ],
 "metadata": {
  "language_info": {
   "name": "python"
  }
 },
 "nbformat": 4,
 "nbformat_minor": 2
}
