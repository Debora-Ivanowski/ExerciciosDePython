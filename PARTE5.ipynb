{
 "cells": [
  {
   "cell_type": "code",
   "execution_count": null,
   "metadata": {},
   "outputs": [],
   "source": [
    "'''\n",
    "Escreva um programa para aprovar o empréstimo bancário\n",
    "para a compra de uma casa\n",
    "O programa vai perguntar o valor da casa, o salário do comprador e em quantos\n",
    "anos ele vai pagar\n",
    "\n",
    "Calcule o valor da prestação mensal,\n",
    "sabendo que ela não pode exceder 30% do salário\n",
    "ou então o empréstimo será negado\n",
    "'''"
   ]
  },
  {
   "cell_type": "code",
   "execution_count": null,
   "metadata": {},
   "outputs": [],
   "source": [
    "''' Escreva um programa que leia um número inteiro qualquer\n",
    "e peça para o usuário escolher qual será a base de conversão:\n",
    "1 para binário\n",
    "2 para octal\n",
    "2 para hexadecimal\n",
    "'''"
   ]
  },
  {
   "cell_type": "code",
   "execution_count": null,
   "metadata": {},
   "outputs": [],
   "source": [
    "'''\n",
    "Escreva um programa que leia dois números inteiros e compare-os,\n",
    "mostrando na tela uma mensagem:\n",
    "- o primeiro valor é maior\n",
    "- o segundo valor é maior\n",
    "- não existe valor maior; os dois são iguais\n",
    "'''"
   ]
  },
  {
   "cell_type": "code",
   "execution_count": null,
   "metadata": {},
   "outputs": [],
   "source": [
    "'''\n",
    "Faça um programa que leia o ano de nascimento de um jovem e informe\n",
    "de acordo com sua idade:\n",
    "\n",
    "- Se ele ainda vai se alistar ao serviço militar\n",
    "- Se é a hora de se alistar\n",
    "- Se já passou do tempo do alistamento\n",
    "\n",
    "Seu programa também deverá mostrar o tempo que faltou ou que passou do prazo\n",
    "'''"
   ]
  },
  {
   "cell_type": "code",
   "execution_count": null,
   "metadata": {},
   "outputs": [],
   "source": [
    "'''\n",
    "Crie um programa que leia duas notas de um aluno e calcule sua média,\n",
    "mostrando uma mensagem no final, de acordo com a média atingida:\n",
    "\n",
    "- média abaixo de 5.0: reprovado\n",
    "- média entre 5.0 e 6,9: recuperação\n",
    "- média 7.0 ou superior: aprovado\n",
    "'''"
   ]
  },
  {
   "cell_type": "code",
   "execution_count": null,
   "metadata": {},
   "outputs": [],
   "source": [
    "from datetime import date\n",
    "'''\n",
    "A Confederação Nacional de Natação precisa de um programa que leia\n",
    "o ano de nascimento de um atleta e mostre sua categoria, de acordo com a idade:\n",
    "\n",
    "- até 9 anos: mirim\n",
    "- até 14 anos: infantil\n",
    "- até 19 anos: júnior\n",
    "- até 20 anos: sênior\n",
    "acima de 20: master\n",
    "'''"
   ]
  },
  {
   "cell_type": "code",
   "execution_count": null,
   "metadata": {},
   "outputs": [],
   "source": [
    "'''\n",
    "Refaça o DESAFIO 35, dos triângulos, acrescentando o recurso de mostrar\n",
    "que tipo de triângulo será formado:\n",
    "\n",
    "- equilátero: todos os lados iguais\n",
    "- isósceles: dois lados iguais\n",
    "- escaleno: todos os lados diferentes\n",
    "'''"
   ]
  },
  {
   "cell_type": "code",
   "execution_count": null,
   "metadata": {},
   "outputs": [],
   "source": [
    "'''\n",
    "\n",
    "Desenvolva uma lógica que leia o peso e a altura de uma pessoa, calcule seu IMC\n",
    "e mostre seu status, e acordo com a tabela abaixo:\n",
    "\n",
    "- abaixo de 18.5: abaixo do peso\n",
    "- entre 18.5 e 25: peso ideal\n",
    "- 25 até 30: sobrepeso\n",
    "- 30 até 40: obesidade\n",
    "- acima de 40: obesidade mórbida\n",
    "'''"
   ]
  },
  {
   "cell_type": "code",
   "execution_count": null,
   "metadata": {},
   "outputs": [],
   "source": [
    "'''\n",
    "Elabore um programa que calcule o valor a ser pago por um produto,\n",
    "considerando o seu preço normal, e condição de pagamento:\n",
    "\n",
    "- à vista dinheiro/cheque: 10% de desconto\n",
    "- à vista no cartão: 5% de desconto\n",
    "- em até 2x no cartão: preço normal\n",
    "- em 3x ou mais no cartão: 20% de juros\n",
    "'''"
   ]
  },
  {
   "cell_type": "code",
   "execution_count": null,
   "metadata": {},
   "outputs": [],
   "source": [
    "from random import choice\n",
    "from time import sleep\n",
    "'''\n",
    "Crie um programa que faça o computador jogar Jokenpô com você.\n",
    "'''\n",
    "lista = [\"pedra\", \"papel\", \"tesoura\"]\n",
    "print('''\n",
    "COMPUTADOR: Vamos jogar Pedra, Papel, Tesoura!\n",
    "As regras são as seguintes:\n",
    "- Papel vence Pedra e perde para Tesoura\n",
    "- Pedra vence Tesoura e perde para Papel\n",
    "- Tesoura vence Papel e perde para Pedra\n",
    "''')\n"
   ]
  }
 ],
 "metadata": {
  "language_info": {
   "name": "python"
  }
 },
 "nbformat": 4,
 "nbformat_minor": 2
}
