{
 "cells": [
  {
   "cell_type": "code",
   "execution_count": null,
   "metadata": {},
   "outputs": [],
   "source": [
    "from math import sqrt, ceil\n",
    "\n",
    "num = int(input(\"Digite um número: \\n\"))\n",
    "raiz = sqrt(num)\n",
    "print(\"A raiz de {} é igual a {}!\".format(num, ceil(raiz)))\n",
    "\n",
    "#sqrt calcula a raiz quadrada e ceil arredonda pra cima"
   ]
  },
  {
   "cell_type": "code",
   "execution_count": null,
   "metadata": {},
   "outputs": [],
   "source": [
    "import random\n",
    "list = []\n",
    "num = random.randint(1, 10)\n",
    "for i in range(num):\n",
    "    list.append(i)\n",
    "    for j in list:\n",
    "        print(list)\n",
    "\n",
    "\n",
    "#list = [] cria lista vazia\n",
    "#randint numero inteiro aleatorio\n",
    "#i itera sobre um intervalo de 'num' elementos. range é sequencia de numeros, quando tem 3 numeros range(start, stop, step)\n",
    "#list.append adiciona o valor de i a lista\n"
   ]
  },
  {
   "cell_type": "code",
   "execution_count": null,
   "metadata": {},
   "outputs": [],
   "source": [
    "# Desafio 16: Crie um programa que leia um número real qualquer pelo teclado e mostre na tela a sua porção inteira.\n",
    "from math import trunc\n",
    "\n",
    "num = float(input(\"Digite o numero: /n\"))\n",
    "\n",
    "#truncar -> remove a parte decimal de um numero deixando apenas a inteira\n",
    "\n",
    "\n",
    "\n"
   ]
  },
  {
   "cell_type": "code",
   "execution_count": null,
   "metadata": {},
   "outputs": [],
   "source": [
    "# Desafio 17: Faça um programa que leia o comprimento do cateto oposto (co) e do cateto adjacente (ca) de um triângulo retângulo, calcule e mostre o comprimento da hipotenusa.\n"
   ]
  },
  {
   "cell_type": "code",
   "execution_count": null,
   "metadata": {},
   "outputs": [],
   "source": [
    "# Desafio 18: Faça um programa que leia um ângulo qualquer e mostre na tela o valor do seno, cosseno e tangente desse ângulo.\n"
   ]
  },
  {
   "cell_type": "code",
   "execution_count": null,
   "metadata": {},
   "outputs": [],
   "source": [
    "# Um professor quer sortear um dos seus quatro alunos para apagar o quadro.\n",
    "# Faça um programa que ajude ele, lendo o nome deles e escrevendo o do escolhido."
   ]
  },
  {
   "cell_type": "code",
   "execution_count": null,
   "metadata": {},
   "outputs": [],
   "source": [
    "# O mesmo professor do desafio anterior quer sortear a ordem de apresentação de trabalhos dos alunos.\n",
    "# Faça um programa que leia o nome dos quatro alunos e mostre a ordem sorteada."
   ]
  },
  {
   "cell_type": "code",
   "execution_count": null,
   "metadata": {},
   "outputs": [],
   "source": [
    "# Faça um programa em Python que abra e reproduza um arquivo mp3"
   ]
  },
  {
   "cell_type": "code",
   "execution_count": null,
   "metadata": {},
   "outputs": [],
   "source": [
    "import emoji\n",
    "print(emoji.emojize(\"Hello, World! :earth_americas:\", use_aliases=True))"
   ]
  }
 ],
 "metadata": {
  "language_info": {
   "name": "python"
  }
 },
 "nbformat": 4,
 "nbformat_minor": 2
}
