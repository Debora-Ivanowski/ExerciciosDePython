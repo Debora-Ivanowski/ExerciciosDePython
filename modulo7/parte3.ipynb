{
 "cells": [
  {
   "cell_type": "code",
   "execution_count": 3,
   "metadata": {},
   "outputs": [
    {
     "name": "stdout",
     "output_type": "stream",
     "text": [
      "Com R$:10.0 você pode comprar US$ 2.00\n"
     ]
    }
   ],
   "source": [
    "# Crie um programa que leia quanto dinheiro uma pessoa tem na carteira e mostre quantos dólares ela pode comprar\n",
    "\n",
    "dinheiro = float(input(\"Quanto dinheiro você tem na carteira?\"))\n",
    "dolar = 5\n",
    "conversao = dinheiro / dolar\n",
    "print(\"Com R$:{} você pode comprar US$ {:.2f}\".format(dinheiro, conversao))"
   ]
  },
  {
   "cell_type": "code",
   "execution_count": 4,
   "metadata": {},
   "outputs": [
    {
     "name": "stdout",
     "output_type": "stream",
     "text": [
      "A área é de 50.0 e precisa de 25.0 litros de tinta\n"
     ]
    }
   ],
   "source": [
    "# Faça um programa que leia a largura e a algura de uma parede em metros, calcule a sua área e a quantidade de tinta necessária para pintá-la, sabendo que cada litro de tinta pinta uma área de 2m²\n",
    "\n",
    "largura = float(input(\"Insira a largura da parede\"))\n",
    "altura = float(input(\"Insira a altura da parede\"))\n",
    "\n",
    "area = largura * altura\n",
    "tinta = area / 2\n",
    "\n",
    "print(\"A área é de {} e precisa de {} litros de tinta\".format(area,tinta))\n"
   ]
  },
  {
   "cell_type": "code",
   "execution_count": 8,
   "metadata": {},
   "outputs": [
    {
     "name": "stdout",
     "output_type": "stream",
     "text": [
      "O preço com desconto é de R$:95.00\n"
     ]
    }
   ],
   "source": [
    "# Faça um algoritmo que leia o preço de um produto e mostre seu novo preço, com 5% de desconto\n",
    "\n",
    "preco = float(input(\"Preço do produto?\"))\n",
    "NovoPreco = preco * 0.95\n",
    "print(\"O preço com desconto é de R$:{:.2f}\".format(NovoPreco))"
   ]
  },
  {
   "cell_type": "code",
   "execution_count": 10,
   "metadata": {},
   "outputs": [
    {
     "name": "stdout",
     "output_type": "stream",
     "text": [
      "Com o aumento seu salário será de R$:114.99999999999999\n"
     ]
    }
   ],
   "source": [
    "# Faça um algoritmo que leia o salário de um funcionário e mostre seu novo salário, com 15% de aumento\n",
    "\n",
    "salario = float(input(\"Qual o salario atual?\"))\n",
    "salarioNovo = salario * 1.15\n",
    "print(\"Com o aumento seu salário será de R$:{}\".format(salarioNovo))"
   ]
  },
  {
   "cell_type": "code",
   "execution_count": null,
   "metadata": {},
   "outputs": [],
   "source": [
    "# Aluguel de carros:\n",
    "\n",
    "# Escreva um programa que pergunte a quantidade de Km percorridos por um carro alugado e a quantidade de dias pelos quais ele foi alugado\n",
    "# Calcule o preço a pagar, sabendo que o carro custa R$ 60 por dia e R$ 0.15 por km rodado\n",
    "\n",
    "dias = int(input(\"Por quantos dias o carro foi alugado: \\n\"))  # 8 dias\n",
    "km = float(input(\"Quantos km o carro rodou: \\n\"))  # 720km\n",
    "\n",
    "custo_dias = (dias * 60)\n",
    "custo_km = (km * 0.15)\n",
    "\n",
    "print(\"Você andou {}km por {} dias, então o preço a pagar é R${:.2f}.\".format(km, dias, (custo_km + custo_dias)))\n"
   ]
  },
  {
   "cell_type": "code",
   "execution_count": null,
   "metadata": {},
   "outputs": [],
   "source": [
    "# Faça um programa que leia um número inteiro e mostre na tela o seu sucessor e seu antecessor:\n",
    "\n",
    "n = int(input(\"Digite um número: \\n\"))\n",
    "print(\"O antecessor do número {} é: {}.\".format(n, n - 1))\n",
    "print(\"O sucessor do número {} é: {}.\".format(n, n + 1))"
   ]
  },
  {
   "cell_type": "code",
   "execution_count": null,
   "metadata": {},
   "outputs": [],
   "source": [
    "# Crie um algoritmo que leia um número e mostre o seu dobro, o seu triplo e sua raiz quadrada:\n",
    "\n",
    "n = int(input(\"Digite um número: \\n\"))\n",
    "print(\"O dobro de {} é: {}!\".format(n, n * 2))\n",
    "print(\"O triplo de {} é: {}.\".format(n, n * 3))\n",
    "print(\"A raiz quadrada de {} é: {}.\".format(n, n**(1/2)))"
   ]
  },
  {
   "cell_type": "code",
   "execution_count": null,
   "metadata": {},
   "outputs": [],
   "source": [
    "# Desenvolva um programa que leia as duas notas de um aluno, calcule e mostre a sua média\n",
    "\n",
    "nota1 = float(input(\"Nota 1: \\n\"))\n",
    "nota2 = float(input(\"Nota 2: \\n\"))\n",
    "print(\"A média das notas {:.1f} e {:.1f} é {:.1f}!\".format(nota1, nota2, ((nota1 + nota2) / 2)))"
   ]
  },
  {
   "cell_type": "code",
   "execution_count": null,
   "metadata": {},
   "outputs": [],
   "source": [
    "# Escreva um programa que leia um valor em metros e o exiba convertido em centímetros e milímetros\n"
   ]
  },
  {
   "cell_type": "code",
   "execution_count": 11,
   "metadata": {},
   "outputs": [
    {
     "name": "stdout",
     "output_type": "stream",
     "text": [
      "Tabuada do 8:\n",
      "8 x 1 = 8\n"
     ]
    }
   ],
   "source": [
    "# Faça um programa que leia um número inteiro qualquer\n",
    "# e mostre na tela a sua tabuada\n",
    "\n",
    "n = int(input(\"Digite um número: \\n\"))\n",
    "print(\"Tabuada do {}:\".format(n))\n",
    "\n",
    "print(\"{} x {} = {}\".format(n, 1, (n * 1)))"
   ]
  }
 ],
 "metadata": {
  "kernelspec": {
   "display_name": "Python 3",
   "language": "python",
   "name": "python3"
  },
  "language_info": {
   "codemirror_mode": {
    "name": "ipython",
    "version": 3
   },
   "file_extension": ".py",
   "mimetype": "text/x-python",
   "name": "python",
   "nbconvert_exporter": "python",
   "pygments_lexer": "ipython3",
   "version": "3.11.7"
  }
 },
 "nbformat": 4,
 "nbformat_minor": 2
}
